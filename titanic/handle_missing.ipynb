{
 "cells": [
  {
   "cell_type": "code",
   "execution_count": 1,
   "id": "improved-sterling",
   "metadata": {},
   "outputs": [],
   "source": [
    "# Data science project -> Dataset should be collected from multiple sources"
   ]
  },
  {
   "cell_type": "markdown",
   "id": "sitting-barcelona",
   "metadata": {},
   "source": [
    "# Missing values: Feature Engineering"
   ]
  },
  {
   "cell_type": "markdown",
   "id": "international-possible",
   "metadata": {},
   "source": [
    "Data that will be missing:\n",
    "1. Numerical data\n",
    "2. Categorical data"
   ]
  },
  {
   "cell_type": "markdown",
   "id": "psychological-indication",
   "metadata": {},
   "source": [
    "## What are the types of missing data\n",
    "1. Missing completely at random (MCAR): No relationship between missing values and other values.\n",
    "    * This means disregarding the rows in this case will not create any bias on the inference to be drawn from the dataset.\n",
    "2. \n",
    "\n",
    "    "
   ]
  },
  {
   "cell_type": "code",
   "execution_count": null,
   "id": "attempted-amsterdam",
   "metadata": {},
   "outputs": [],
   "source": [
    "!pip install kaggle"
   ]
  },
  {
   "cell_type": "code",
   "execution_count": 7,
   "id": "exciting-shark",
   "metadata": {},
   "outputs": [
    {
     "name": "stdout",
     "output_type": "stream",
     "text": [
      "titanic.zip: Skipping, found more recently modified local copy (use --force to force download)\n"
     ]
    }
   ],
   "source": [
    "!kaggle competitions download -c titanic"
   ]
  },
  {
   "cell_type": "code",
   "execution_count": 9,
   "id": "smooth-tribe",
   "metadata": {},
   "outputs": [],
   "source": [
    "import pandas as pd"
   ]
  },
  {
   "cell_type": "code",
   "execution_count": 10,
   "id": "tutorial-publisher",
   "metadata": {},
   "outputs": [],
   "source": [
    "df = pd.read_csv(\"./train.csv\")"
   ]
  },
  {
   "cell_type": "code",
   "execution_count": null,
   "id": "driven-inspection",
   "metadata": {},
   "outputs": [],
   "source": []
  }
 ],
 "metadata": {
  "kernelspec": {
   "display_name": "Python 3",
   "language": "python",
   "name": "python3"
  },
  "language_info": {
   "codemirror_mode": {
    "name": "ipython",
    "version": 3
   },
   "file_extension": ".py",
   "mimetype": "text/x-python",
   "name": "python",
   "nbconvert_exporter": "python",
   "pygments_lexer": "ipython3",
   "version": "3.6.9"
  }
 },
 "nbformat": 4,
 "nbformat_minor": 5
}
