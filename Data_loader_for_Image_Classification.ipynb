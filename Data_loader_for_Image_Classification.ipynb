{
  "nbformat": 4,
  "nbformat_minor": 0,
  "metadata": {
    "colab": {
      "name": "Data loader for Image Classification.ipynb",
      "provenance": [],
      "collapsed_sections": [
        "KLFfObcwkavh",
        "5-7Ra8dZho1B",
        "Jh2g7uLvkOWb",
        "JJRsYCYwbY6q",
        "yIYeRRnmzYno",
        "R8miL3tDbczU",
        "7Isujt_xRQTr",
        "mXDkA12BvAGn",
        "aShSiJRrWoqO",
        "RQWeDZPqltaJ",
        "Hj4fqFGNosik"
      ],
      "toc_visible": true,
      "authorship_tag": "ABX9TyNM7pAU9dbtLAQf/oI1/xoC",
      "include_colab_link": true
    },
    "kernelspec": {
      "name": "python3",
      "display_name": "Python 3"
    },
    "language_info": {
      "name": "python"
    }
  },
  "cells": [
    {
      "cell_type": "markdown",
      "metadata": {
        "id": "view-in-github",
        "colab_type": "text"
      },
      "source": [
        "<a href=\"https://colab.research.google.com/github/ediminished/Data-Preprocessing/blob/main/Data_loader_for_Image_Classification.ipynb\" target=\"_parent\"><img src=\"https://colab.research.google.com/assets/colab-badge.svg\" alt=\"Open In Colab\"/></a>"
      ]
    },
    {
      "cell_type": "markdown",
      "metadata": {
        "id": "oc5_g3Ui_jtF"
      },
      "source": [
        "## **1. For custom dataset given actual images in folders**"
      ]
    },
    {
      "cell_type": "markdown",
      "metadata": {
        "id": "KLFfObcwkavh"
      },
      "source": [
        "### Config and import"
      ]
    },
    {
      "cell_type": "code",
      "metadata": {
        "id": "-1XgkTQ6_VJ5"
      },
      "source": [
        "import os\n",
        "import torch\n",
        "import torchvision\n",
        "import torchvision.transforms as transforms\n",
        "from torch.utils.data import Subset\n",
        "import matplotlib.pyplot as plt\n",
        "import tqdm\n",
        "from sklearn.model_selection import train_test_split\n",
        "from torch.utils.data.sampler import SubsetRandomSampler\n",
        "import numpy as np\n",
        "import matplotlib.pyplot as plt\n",
        "import pandas as pd\n",
        "import seaborn as sns\n",
        "from torchvision.utils import make_grid\n",
        "from torch.utils.data.dataset import Dataset\n",
        "from torch.utils.data import WeightedRandomSampler\n",
        "from PIL import Image"
      ],
      "execution_count": 46,
      "outputs": []
    },
    {
      "cell_type": "code",
      "metadata": {
        "id": "e39107a9-bd56-4630-9f9a-f3d1ca0648ef"
      },
      "source": [
        "train_dataset_path = './dataset/training/training/'\n",
        "test_dataset_path = './dataset/validation/validation/'"
      ],
      "execution_count": 88,
      "outputs": []
    },
    {
      "cell_type": "code",
      "metadata": {
        "id": "XJIvV-PZCp7N"
      },
      "source": [
        "image_size = 224 "
      ],
      "execution_count": 90,
      "outputs": []
    },
    {
      "cell_type": "markdown",
      "metadata": {
        "id": "5-7Ra8dZho1B"
      },
      "source": [
        "### Download dataset from kaggle using kaggle api"
      ]
    },
    {
      "cell_type": "code",
      "metadata": {
        "colab": {
          "resources": {
            "http://localhost:8080/nbextensions/google.colab/files.js": {
              "data": "Ly8gQ29weXJpZ2h0IDIwMTcgR29vZ2xlIExMQwovLwovLyBMaWNlbnNlZCB1bmRlciB0aGUgQXBhY2hlIExpY2Vuc2UsIFZlcnNpb24gMi4wICh0aGUgIkxpY2Vuc2UiKTsKLy8geW91IG1heSBub3QgdXNlIHRoaXMgZmlsZSBleGNlcHQgaW4gY29tcGxpYW5jZSB3aXRoIHRoZSBMaWNlbnNlLgovLyBZb3UgbWF5IG9idGFpbiBhIGNvcHkgb2YgdGhlIExpY2Vuc2UgYXQKLy8KLy8gICAgICBodHRwOi8vd3d3LmFwYWNoZS5vcmcvbGljZW5zZXMvTElDRU5TRS0yLjAKLy8KLy8gVW5sZXNzIHJlcXVpcmVkIGJ5IGFwcGxpY2FibGUgbGF3IG9yIGFncmVlZCB0byBpbiB3cml0aW5nLCBzb2Z0d2FyZQovLyBkaXN0cmlidXRlZCB1bmRlciB0aGUgTGljZW5zZSBpcyBkaXN0cmlidXRlZCBvbiBhbiAiQVMgSVMiIEJBU0lTLAovLyBXSVRIT1VUIFdBUlJBTlRJRVMgT1IgQ09ORElUSU9OUyBPRiBBTlkgS0lORCwgZWl0aGVyIGV4cHJlc3Mgb3IgaW1wbGllZC4KLy8gU2VlIHRoZSBMaWNlbnNlIGZvciB0aGUgc3BlY2lmaWMgbGFuZ3VhZ2UgZ292ZXJuaW5nIHBlcm1pc3Npb25zIGFuZAovLyBsaW1pdGF0aW9ucyB1bmRlciB0aGUgTGljZW5zZS4KCi8qKgogKiBAZmlsZW92ZXJ2aWV3IEhlbHBlcnMgZm9yIGdvb2dsZS5jb2xhYiBQeXRob24gbW9kdWxlLgogKi8KKGZ1bmN0aW9uKHNjb3BlKSB7CmZ1bmN0aW9uIHNwYW4odGV4dCwgc3R5bGVBdHRyaWJ1dGVzID0ge30pIHsKICBjb25zdCBlbGVtZW50ID0gZG9jdW1lbnQuY3JlYXRlRWxlbWVudCgnc3BhbicpOwogIGVsZW1lbnQudGV4dENvbnRlbnQgPSB0ZXh0OwogIGZvciAoY29uc3Qga2V5IG9mIE9iamVjdC5rZXlzKHN0eWxlQXR0cmlidXRlcykpIHsKICAgIGVsZW1lbnQuc3R5bGVba2V5XSA9IHN0eWxlQXR0cmlidXRlc1trZXldOwogIH0KICByZXR1cm4gZWxlbWVudDsKfQoKLy8gTWF4IG51bWJlciBvZiBieXRlcyB3aGljaCB3aWxsIGJlIHVwbG9hZGVkIGF0IGEgdGltZS4KY29uc3QgTUFYX1BBWUxPQURfU0laRSA9IDEwMCAqIDEwMjQ7CgpmdW5jdGlvbiBfdXBsb2FkRmlsZXMoaW5wdXRJZCwgb3V0cHV0SWQpIHsKICBjb25zdCBzdGVwcyA9IHVwbG9hZEZpbGVzU3RlcChpbnB1dElkLCBvdXRwdXRJZCk7CiAgY29uc3Qgb3V0cHV0RWxlbWVudCA9IGRvY3VtZW50LmdldEVsZW1lbnRCeUlkKG91dHB1dElkKTsKICAvLyBDYWNoZSBzdGVwcyBvbiB0aGUgb3V0cHV0RWxlbWVudCB0byBtYWtlIGl0IGF2YWlsYWJsZSBmb3IgdGhlIG5leHQgY2FsbAogIC8vIHRvIHVwbG9hZEZpbGVzQ29udGludWUgZnJvbSBQeXRob24uCiAgb3V0cHV0RWxlbWVudC5zdGVwcyA9IHN0ZXBzOwoKICByZXR1cm4gX3VwbG9hZEZpbGVzQ29udGludWUob3V0cHV0SWQpOwp9CgovLyBUaGlzIGlzIHJvdWdobHkgYW4gYXN5bmMgZ2VuZXJhdG9yIChub3Qgc3VwcG9ydGVkIGluIHRoZSBicm93c2VyIHlldCksCi8vIHdoZXJlIHRoZXJlIGFyZSBtdWx0aXBsZSBhc3luY2hyb25vdXMgc3RlcHMgYW5kIHRoZSBQeXRob24gc2lkZSBpcyBnb2luZwovLyB0byBwb2xsIGZvciBjb21wbGV0aW9uIG9mIGVhY2ggc3RlcC4KLy8gVGhpcyB1c2VzIGEgUHJvbWlzZSB0byBibG9jayB0aGUgcHl0aG9uIHNpZGUgb24gY29tcGxldGlvbiBvZiBlYWNoIHN0ZXAsCi8vIHRoZW4gcGFzc2VzIHRoZSByZXN1bHQgb2YgdGhlIHByZXZpb3VzIHN0ZXAgYXMgdGhlIGlucHV0IHRvIHRoZSBuZXh0IHN0ZXAuCmZ1bmN0aW9uIF91cGxvYWRGaWxlc0NvbnRpbnVlKG91dHB1dElkKSB7CiAgY29uc3Qgb3V0cHV0RWxlbWVudCA9IGRvY3VtZW50LmdldEVsZW1lbnRCeUlkKG91dHB1dElkKTsKICBjb25zdCBzdGVwcyA9IG91dHB1dEVsZW1lbnQuc3RlcHM7CgogIGNvbnN0IG5leHQgPSBzdGVwcy5uZXh0KG91dHB1dEVsZW1lbnQubGFzdFByb21pc2VWYWx1ZSk7CiAgcmV0dXJuIFByb21pc2UucmVzb2x2ZShuZXh0LnZhbHVlLnByb21pc2UpLnRoZW4oKHZhbHVlKSA9PiB7CiAgICAvLyBDYWNoZSB0aGUgbGFzdCBwcm9taXNlIHZhbHVlIHRvIG1ha2UgaXQgYXZhaWxhYmxlIHRvIHRoZSBuZXh0CiAgICAvLyBzdGVwIG9mIHRoZSBnZW5lcmF0b3IuCiAgICBvdXRwdXRFbGVtZW50Lmxhc3RQcm9taXNlVmFsdWUgPSB2YWx1ZTsKICAgIHJldHVybiBuZXh0LnZhbHVlLnJlc3BvbnNlOwogIH0pOwp9CgovKioKICogR2VuZXJhdG9yIGZ1bmN0aW9uIHdoaWNoIGlzIGNhbGxlZCBiZXR3ZWVuIGVhY2ggYXN5bmMgc3RlcCBvZiB0aGUgdXBsb2FkCiAqIHByb2Nlc3MuCiAqIEBwYXJhbSB7c3RyaW5nfSBpbnB1dElkIEVsZW1lbnQgSUQgb2YgdGhlIGlucHV0IGZpbGUgcGlja2VyIGVsZW1lbnQuCiAqIEBwYXJhbSB7c3RyaW5nfSBvdXRwdXRJZCBFbGVtZW50IElEIG9mIHRoZSBvdXRwdXQgZGlzcGxheS4KICogQHJldHVybiB7IUl0ZXJhYmxlPCFPYmplY3Q+fSBJdGVyYWJsZSBvZiBuZXh0IHN0ZXBzLgogKi8KZnVuY3Rpb24qIHVwbG9hZEZpbGVzU3RlcChpbnB1dElkLCBvdXRwdXRJZCkgewogIGNvbnN0IGlucHV0RWxlbWVudCA9IGRvY3VtZW50LmdldEVsZW1lbnRCeUlkKGlucHV0SWQpOwogIGlucHV0RWxlbWVudC5kaXNhYmxlZCA9IGZhbHNlOwoKICBjb25zdCBvdXRwdXRFbGVtZW50ID0gZG9jdW1lbnQuZ2V0RWxlbWVudEJ5SWQob3V0cHV0SWQpOwogIG91dHB1dEVsZW1lbnQuaW5uZXJIVE1MID0gJyc7CgogIGNvbnN0IHBpY2tlZFByb21pc2UgPSBuZXcgUHJvbWlzZSgocmVzb2x2ZSkgPT4gewogICAgaW5wdXRFbGVtZW50LmFkZEV2ZW50TGlzdGVuZXIoJ2NoYW5nZScsIChlKSA9PiB7CiAgICAgIHJlc29sdmUoZS50YXJnZXQuZmlsZXMpOwogICAgfSk7CiAgfSk7CgogIGNvbnN0IGNhbmNlbCA9IGRvY3VtZW50LmNyZWF0ZUVsZW1lbnQoJ2J1dHRvbicpOwogIGlucHV0RWxlbWVudC5wYXJlbnRFbGVtZW50LmFwcGVuZENoaWxkKGNhbmNlbCk7CiAgY2FuY2VsLnRleHRDb250ZW50ID0gJ0NhbmNlbCB1cGxvYWQnOwogIGNvbnN0IGNhbmNlbFByb21pc2UgPSBuZXcgUHJvbWlzZSgocmVzb2x2ZSkgPT4gewogICAgY2FuY2VsLm9uY2xpY2sgPSAoKSA9PiB7CiAgICAgIHJlc29sdmUobnVsbCk7CiAgICB9OwogIH0pOwoKICAvLyBXYWl0IGZvciB0aGUgdXNlciB0byBwaWNrIHRoZSBmaWxlcy4KICBjb25zdCBmaWxlcyA9IHlpZWxkIHsKICAgIHByb21pc2U6IFByb21pc2UucmFjZShbcGlja2VkUHJvbWlzZSwgY2FuY2VsUHJvbWlzZV0pLAogICAgcmVzcG9uc2U6IHsKICAgICAgYWN0aW9uOiAnc3RhcnRpbmcnLAogICAgfQogIH07CgogIGNhbmNlbC5yZW1vdmUoKTsKCiAgLy8gRGlzYWJsZSB0aGUgaW5wdXQgZWxlbWVudCBzaW5jZSBmdXJ0aGVyIHBpY2tzIGFyZSBub3QgYWxsb3dlZC4KICBpbnB1dEVsZW1lbnQuZGlzYWJsZWQgPSB0cnVlOwoKICBpZiAoIWZpbGVzKSB7CiAgICByZXR1cm4gewogICAgICByZXNwb25zZTogewogICAgICAgIGFjdGlvbjogJ2NvbXBsZXRlJywKICAgICAgfQogICAgfTsKICB9CgogIGZvciAoY29uc3QgZmlsZSBvZiBmaWxlcykgewogICAgY29uc3QgbGkgPSBkb2N1bWVudC5jcmVhdGVFbGVtZW50KCdsaScpOwogICAgbGkuYXBwZW5kKHNwYW4oZmlsZS5uYW1lLCB7Zm9udFdlaWdodDogJ2JvbGQnfSkpOwogICAgbGkuYXBwZW5kKHNwYW4oCiAgICAgICAgYCgke2ZpbGUudHlwZSB8fCAnbi9hJ30pIC0gJHtmaWxlLnNpemV9IGJ5dGVzLCBgICsKICAgICAgICBgbGFzdCBtb2RpZmllZDogJHsKICAgICAgICAgICAgZmlsZS5sYXN0TW9kaWZpZWREYXRlID8gZmlsZS5sYXN0TW9kaWZpZWREYXRlLnRvTG9jYWxlRGF0ZVN0cmluZygpIDoKICAgICAgICAgICAgICAgICAgICAgICAgICAgICAgICAgICAgJ24vYSd9IC0gYCkpOwogICAgY29uc3QgcGVyY2VudCA9IHNwYW4oJzAlIGRvbmUnKTsKICAgIGxpLmFwcGVuZENoaWxkKHBlcmNlbnQpOwoKICAgIG91dHB1dEVsZW1lbnQuYXBwZW5kQ2hpbGQobGkpOwoKICAgIGNvbnN0IGZpbGVEYXRhUHJvbWlzZSA9IG5ldyBQcm9taXNlKChyZXNvbHZlKSA9PiB7CiAgICAgIGNvbnN0IHJlYWRlciA9IG5ldyBGaWxlUmVhZGVyKCk7CiAgICAgIHJlYWRlci5vbmxvYWQgPSAoZSkgPT4gewogICAgICAgIHJlc29sdmUoZS50YXJnZXQucmVzdWx0KTsKICAgICAgfTsKICAgICAgcmVhZGVyLnJlYWRBc0FycmF5QnVmZmVyKGZpbGUpOwogICAgfSk7CiAgICAvLyBXYWl0IGZvciB0aGUgZGF0YSB0byBiZSByZWFkeS4KICAgIGxldCBmaWxlRGF0YSA9IHlpZWxkIHsKICAgICAgcHJvbWlzZTogZmlsZURhdGFQcm9taXNlLAogICAgICByZXNwb25zZTogewogICAgICAgIGFjdGlvbjogJ2NvbnRpbnVlJywKICAgICAgfQogICAgfTsKCiAgICAvLyBVc2UgYSBjaHVua2VkIHNlbmRpbmcgdG8gYXZvaWQgbWVzc2FnZSBzaXplIGxpbWl0cy4gU2VlIGIvNjIxMTU2NjAuCiAgICBsZXQgcG9zaXRpb24gPSAwOwogICAgd2hpbGUgKHBvc2l0aW9uIDwgZmlsZURhdGEuYnl0ZUxlbmd0aCkgewogICAgICBjb25zdCBsZW5ndGggPSBNYXRoLm1pbihmaWxlRGF0YS5ieXRlTGVuZ3RoIC0gcG9zaXRpb24sIE1BWF9QQVlMT0FEX1NJWkUpOwogICAgICBjb25zdCBjaHVuayA9IG5ldyBVaW50OEFycmF5KGZpbGVEYXRhLCBwb3NpdGlvbiwgbGVuZ3RoKTsKICAgICAgcG9zaXRpb24gKz0gbGVuZ3RoOwoKICAgICAgY29uc3QgYmFzZTY0ID0gYnRvYShTdHJpbmcuZnJvbUNoYXJDb2RlLmFwcGx5KG51bGwsIGNodW5rKSk7CiAgICAgIHlpZWxkIHsKICAgICAgICByZXNwb25zZTogewogICAgICAgICAgYWN0aW9uOiAnYXBwZW5kJywKICAgICAgICAgIGZpbGU6IGZpbGUubmFtZSwKICAgICAgICAgIGRhdGE6IGJhc2U2NCwKICAgICAgICB9LAogICAgICB9OwogICAgICBwZXJjZW50LnRleHRDb250ZW50ID0KICAgICAgICAgIGAke01hdGgucm91bmQoKHBvc2l0aW9uIC8gZmlsZURhdGEuYnl0ZUxlbmd0aCkgKiAxMDApfSUgZG9uZWA7CiAgICB9CiAgfQoKICAvLyBBbGwgZG9uZS4KICB5aWVsZCB7CiAgICByZXNwb25zZTogewogICAgICBhY3Rpb246ICdjb21wbGV0ZScsCiAgICB9CiAgfTsKfQoKc2NvcGUuZ29vZ2xlID0gc2NvcGUuZ29vZ2xlIHx8IHt9OwpzY29wZS5nb29nbGUuY29sYWIgPSBzY29wZS5nb29nbGUuY29sYWIgfHwge307CnNjb3BlLmdvb2dsZS5jb2xhYi5fZmlsZXMgPSB7CiAgX3VwbG9hZEZpbGVzLAogIF91cGxvYWRGaWxlc0NvbnRpbnVlLAp9Owp9KShzZWxmKTsK",
              "ok": true,
              "headers": [
                [
                  "content-type",
                  "application/javascript"
                ]
              ],
              "status": 200,
              "status_text": "OK"
            }
          },
          "base_uri": "https://localhost:8080/",
          "height": 56
        },
        "id": "bB3v5aoehREk",
        "outputId": "88eca4bd-f695-488b-d73e-11ea67eb4164"
      },
      "source": [
        "from google.colab import files\n",
        "# upload the kaggle json file obtained from your kaggle profile\n",
        "uploaded = files.upload()"
      ],
      "execution_count": 1,
      "outputs": [
        {
          "output_type": "display_data",
          "data": {
            "text/html": [
              "\n",
              "     <input type=\"file\" id=\"files-2624c25a-4521-4d38-b73f-d7565b1cdfe3\" name=\"files[]\" multiple disabled\n",
              "        style=\"border:none\" />\n",
              "     <output id=\"result-2624c25a-4521-4d38-b73f-d7565b1cdfe3\">\n",
              "      Upload widget is only available when the cell has been executed in the\n",
              "      current browser session. Please rerun this cell to enable.\n",
              "      </output>\n",
              "      <script src=\"/nbextensions/google.colab/files.js\"></script> "
            ],
            "text/plain": [
              "<IPython.core.display.HTML object>"
            ]
          },
          "metadata": {
            "tags": []
          }
        },
        {
          "output_type": "stream",
          "text": [
            "Saving kaggle.json to kaggle.json\n"
          ],
          "name": "stdout"
        }
      ]
    },
    {
      "cell_type": "code",
      "metadata": {
        "colab": {
          "base_uri": "https://localhost:8080/"
        },
        "id": "jQqm75nmhWEK",
        "outputId": "0d8a195f-11b2-4bde-f4d3-f16ae92eb446"
      },
      "source": [
        "for fn in uploaded.keys():\n",
        "  print('User uploaded file \"{name}\" with length {length} bytes'.format(\n",
        "      name=fn, length=len(uploaded[fn])))\n",
        "  \n",
        "# Then move kaggle.json into the folder where the API expects to find it.\n",
        "!mkdir -p ~/.kaggle/ && mv kaggle.json ~/.kaggle/ && chmod 600 ~/.kaggle/kaggle.json"
      ],
      "execution_count": 2,
      "outputs": [
        {
          "output_type": "stream",
          "text": [
            "User uploaded file \"kaggle.json\" with length 66 bytes\n"
          ],
          "name": "stdout"
        }
      ]
    },
    {
      "cell_type": "code",
      "metadata": {
        "id": "COxMoCmTWCW2",
        "colab": {
          "base_uri": "https://localhost:8080/"
        },
        "outputId": "46888e15-a5ed-40fd-c710-6fd8a39b7a19"
      },
      "source": [
        "!rm -r dataset"
      ],
      "execution_count": 3,
      "outputs": [
        {
          "output_type": "stream",
          "text": [
            "rm: cannot remove 'dataset': No such file or directory\n"
          ],
          "name": "stdout"
        }
      ]
    },
    {
      "cell_type": "code",
      "metadata": {
        "id": "mXwi09pXivKs"
      },
      "source": [
        "%mkdir dataset"
      ],
      "execution_count": 4,
      "outputs": []
    },
    {
      "cell_type": "code",
      "metadata": {
        "colab": {
          "base_uri": "https://localhost:8080/"
        },
        "id": "VKwrGvB8nXMN",
        "outputId": "47e5f815-25de-4989-dd78-b35eaf268f2e"
      },
      "source": [
        "%cd dataset"
      ],
      "execution_count": 5,
      "outputs": [
        {
          "output_type": "stream",
          "text": [
            "/content/dataset\n"
          ],
          "name": "stdout"
        }
      ]
    },
    {
      "cell_type": "code",
      "metadata": {
        "colab": {
          "base_uri": "https://localhost:8080/"
        },
        "id": "8LrunoZliHfk",
        "outputId": "cea9e8f0-94af-4df2-a952-a6b3e3e095c7"
      },
      "source": [
        "! kaggle datasets download -d slothkong/10-monkey-species"
      ],
      "execution_count": 6,
      "outputs": [
        {
          "output_type": "stream",
          "text": [
            "Downloading 10-monkey-species.zip to /content/dataset\n",
            "100% 546M/547M [00:03<00:00, 162MB/s]\n",
            "100% 547M/547M [00:03<00:00, 147MB/s]\n"
          ],
          "name": "stdout"
        }
      ]
    },
    {
      "cell_type": "code",
      "metadata": {
        "colab": {
          "base_uri": "https://localhost:8080/",
          "height": 36
        },
        "id": "xlSTwLpwnbmZ",
        "outputId": "14aacbf9-cf5f-4eba-db58-d36bdbfe887a"
      },
      "source": [
        "%pwd"
      ],
      "execution_count": 7,
      "outputs": [
        {
          "output_type": "execute_result",
          "data": {
            "application/vnd.google.colaboratory.intrinsic+json": {
              "type": "string"
            },
            "text/plain": [
              "'/content/dataset'"
            ]
          },
          "metadata": {
            "tags": []
          },
          "execution_count": 7
        }
      ]
    },
    {
      "cell_type": "code",
      "metadata": {
        "id": "TryUInYuVBJS"
      },
      "source": [
        "!unzip 10-monkey-species.zip"
      ],
      "execution_count": null,
      "outputs": []
    },
    {
      "cell_type": "code",
      "metadata": {
        "colab": {
          "base_uri": "https://localhost:8080/"
        },
        "id": "rCAzPfHLnf0t",
        "outputId": "3331e8d8-93bc-4ec7-9ab9-5d6076db7e37"
      },
      "source": [
        "%cd ../"
      ],
      "execution_count": 179,
      "outputs": [
        {
          "output_type": "stream",
          "text": [
            "/content\n"
          ],
          "name": "stdout"
        }
      ]
    },
    {
      "cell_type": "code",
      "metadata": {
        "colab": {
          "base_uri": "https://localhost:8080/"
        },
        "id": "mr1YZOBgSYEv",
        "outputId": "b43b835d-4cec-4cb9-b032-0569b464c7b8"
      },
      "source": [
        "%ls"
      ],
      "execution_count": 180,
      "outputs": [
        {
          "output_type": "stream",
          "text": [
            "\u001b[0m\u001b[01;34mdataset\u001b[0m/  \u001b[01;34msample_data\u001b[0m/\n"
          ],
          "name": "stdout"
        }
      ]
    },
    {
      "cell_type": "markdown",
      "metadata": {
        "id": "Jh2g7uLvkOWb"
      },
      "source": [
        "### Transform and create train, validation, test dataset"
      ]
    },
    {
      "cell_type": "code",
      "metadata": {
        "id": "01VkMU9pBo8v"
      },
      "source": [
        "train_transforms = transforms.Compose([\n",
        "                                        transforms.Resize((image_size, image_size)), \n",
        "                                        transforms.RandomHorizontalFlip(),\n",
        "                                        transforms.RandomRotation(10),\n",
        "                                        transforms.ToTensor(),\n",
        "                                        # transforms.Normalize(mean, std)\n",
        "                                        ])\n",
        "val_transforms = transforms.Compose([\n",
        "                                        transforms.Resize((image_size, image_size)),\n",
        "                                        transforms.ToTensor(),\n",
        "                                        # transforms.Normalize(mean, std)\n",
        "                                        ])\n",
        "test_transforms = transforms.Compose([\n",
        "                                        transforms.Resize((image_size, image_size)),\n",
        "                                        transforms.ToTensor(),\n",
        "                                        # transforms.Normalize(mean, std)\n",
        "                                        ])"
      ],
      "execution_count": 91,
      "outputs": []
    },
    {
      "cell_type": "code",
      "metadata": {
        "id": "QwjVd5VTFnCi"
      },
      "source": [
        "train__dataset = torchvision.datasets.ImageFolder(root=train_dataset_path, transform = train_transforms)\n",
        "val_dataset = torchvision.datasets.ImageFolder(root=train_dataset_path, transform = val_transforms)\n",
        "test_dataset = torchvision.datasets.ImageFolder(root=test_dataset_path, transform = test_transforms)"
      ],
      "execution_count": 92,
      "outputs": []
    },
    {
      "cell_type": "code",
      "metadata": {
        "id": "EAK8Iei2Da-Z"
      },
      "source": [
        "# Experimental: use this to get mean and std for normalizing the data\n",
        "def get_mean_std(loader):\n",
        "    count = 0\n",
        "    mean = 0.\n",
        "    std = 0.\n",
        "    total_images_count = 0\n",
        "    \n",
        "    for images, _ in tqdm.tqdm(loader):        \n",
        "        images = images.view(images.size(0), images.size(1), -1)  #4*3*224*224 ->  4*3*(224*224)\n",
        "        #Computation of mean across all the pixel for each of the 3 kernels and then summing it over complete batch\n",
        "        mean += images.mean(2).sum(0)\n",
        "        std += images.std(2).sum(0)\n",
        "    \n",
        "    mean /= number_of_samples \n",
        "    std /= number_of_samples\n",
        "    return mean, std\n",
        "    \n",
        "# mean, std = get_mean_std(train_loader) "
      ],
      "execution_count": null,
      "outputs": []
    },
    {
      "cell_type": "markdown",
      "metadata": {
        "id": "JJRsYCYwbY6q"
      },
      "source": [
        "### Data distribution"
      ]
    },
    {
      "cell_type": "code",
      "metadata": {
        "colab": {
          "base_uri": "https://localhost:8080/"
        },
        "id": "-kAEsBb_bqpS",
        "outputId": "ba7c5fb7-dbe9-416f-f789-07dbc60927b7"
      },
      "source": [
        "train_dataset.classes\n",
        "type(train_dataset.targets)"
      ],
      "execution_count": 119,
      "outputs": [
        {
          "output_type": "execute_result",
          "data": {
            "text/plain": [
              "list"
            ]
          },
          "metadata": {
            "tags": []
          },
          "execution_count": 119
        }
      ]
    },
    {
      "cell_type": "code",
      "metadata": {
        "colab": {
          "base_uri": "https://localhost:8080/"
        },
        "id": "4EKAFPiPcYiJ",
        "outputId": "6bd9e02d-e427-4dac-dbd3-dcd66eae5a7c"
      },
      "source": [
        "len(train_dataset.targets)"
      ],
      "execution_count": 118,
      "outputs": [
        {
          "output_type": "execute_result",
          "data": {
            "text/plain": [
              "1097"
            ]
          },
          "metadata": {
            "tags": []
          },
          "execution_count": 118
        }
      ]
    },
    {
      "cell_type": "code",
      "metadata": {
        "colab": {
          "base_uri": "https://localhost:8080/"
        },
        "id": "Yg98mlmRcqUE",
        "outputId": "12a99820-bfc6-4fb1-ada9-36e9aad8bb91"
      },
      "source": [
        "images_distributions = pd.Series(data=train_dataset.targets)\n",
        "images_distributions.head()"
      ],
      "execution_count": 175,
      "outputs": [
        {
          "output_type": "execute_result",
          "data": {
            "text/plain": [
              "0    0\n",
              "1    0\n",
              "2    0\n",
              "3    0\n",
              "4    0\n",
              "dtype: int64"
            ]
          },
          "metadata": {
            "tags": []
          },
          "execution_count": 175
        }
      ]
    },
    {
      "cell_type": "code",
      "metadata": {
        "colab": {
          "base_uri": "https://localhost:8080/"
        },
        "id": "a3InppXgdq6V",
        "outputId": "69420155-c99e-4a45-8b31-a7585368e37f"
      },
      "source": [
        "images_distributions.unique()"
      ],
      "execution_count": 162,
      "outputs": [
        {
          "output_type": "execute_result",
          "data": {
            "text/plain": [
              "array([0, 1, 2, 3, 4, 5, 6, 7, 8, 9])"
            ]
          },
          "metadata": {
            "tags": []
          },
          "execution_count": 162
        }
      ]
    },
    {
      "cell_type": "code",
      "metadata": {
        "colab": {
          "base_uri": "https://localhost:8080/"
        },
        "id": "qPo2VXABfaGL",
        "outputId": "73fd0e19-080e-4638-9818-47c395e31d1a"
      },
      "source": [
        "classes_count = images_distributions.value_counts()\n",
        "classes_count"
      ],
      "execution_count": 164,
      "outputs": [
        {
          "output_type": "execute_result",
          "data": {
            "text/plain": [
              "3    122\n",
              "7    114\n",
              "5    113\n",
              "1    111\n",
              "2    110\n",
              "8    106\n",
              "6    106\n",
              "9    105\n",
              "4    105\n",
              "0    105\n",
              "dtype: int64"
            ]
          },
          "metadata": {
            "tags": []
          },
          "execution_count": 164
        }
      ]
    },
    {
      "cell_type": "code",
      "metadata": {
        "colab": {
          "base_uri": "https://localhost:8080/"
        },
        "id": "78B4P21Ggr0y",
        "outputId": "531ac37d-b4ae-46ef-d13c-e169208eb24b"
      },
      "source": [
        "classes_count_dict = classes_count.to_dict()\n",
        "classes_count_dict"
      ],
      "execution_count": 167,
      "outputs": [
        {
          "output_type": "execute_result",
          "data": {
            "text/plain": [
              "{0: 105,\n",
              " 1: 111,\n",
              " 2: 110,\n",
              " 3: 122,\n",
              " 4: 105,\n",
              " 5: 113,\n",
              " 6: 106,\n",
              " 7: 114,\n",
              " 8: 106,\n",
              " 9: 105}"
            ]
          },
          "metadata": {
            "tags": []
          },
          "execution_count": 167
        }
      ]
    },
    {
      "cell_type": "code",
      "metadata": {
        "colab": {
          "base_uri": "https://localhost:8080/"
        },
        "id": "oHCxhDa2d90c",
        "outputId": "63c5bb4a-8b94-4068-ce40-4f59a7c5acf9"
      },
      "source": [
        "# Datasets class\n",
        "classes_dict = train_dataset.class_to_idx\n",
        "classes_dict = { v:k for (k,v) in classes_dict.items()}\n",
        "classes_dict"
      ],
      "execution_count": 170,
      "outputs": [
        {
          "output_type": "execute_result",
          "data": {
            "text/plain": [
              "{0: 'n0',\n",
              " 1: 'n1',\n",
              " 2: 'n2',\n",
              " 3: 'n3',\n",
              " 4: 'n4',\n",
              " 5: 'n5',\n",
              " 6: 'n6',\n",
              " 7: 'n7',\n",
              " 8: 'n8',\n",
              " 9: 'n9'}"
            ]
          },
          "metadata": {
            "tags": []
          },
          "execution_count": 170
        }
      ]
    },
    {
      "cell_type": "code",
      "metadata": {
        "colab": {
          "base_uri": "https://localhost:8080/"
        },
        "id": "gLNr5Y6DiXBq",
        "outputId": "822a1755-0d1f-478f-d61f-9be720330727"
      },
      "source": [
        "count_dict = {classes_dict[k]: v for k, v in classes_count_dict.items()}\n",
        "count_dict"
      ],
      "execution_count": 171,
      "outputs": [
        {
          "output_type": "execute_result",
          "data": {
            "text/plain": [
              "{'n0': 105,\n",
              " 'n1': 111,\n",
              " 'n2': 110,\n",
              " 'n3': 122,\n",
              " 'n4': 105,\n",
              " 'n5': 113,\n",
              " 'n6': 106,\n",
              " 'n7': 114,\n",
              " 'n8': 106,\n",
              " 'n9': 105}"
            ]
          },
          "metadata": {
            "tags": []
          },
          "execution_count": 171
        }
      ]
    },
    {
      "cell_type": "code",
      "metadata": {
        "id": "KhwiyVwOix1M"
      },
      "source": [
        "sns.barplot()"
      ],
      "execution_count": null,
      "outputs": []
    },
    {
      "cell_type": "code",
      "metadata": {
        "colab": {
          "base_uri": "https://localhost:8080/",
          "height": 517
        },
        "id": "q8Z-dbh8c6RQ",
        "outputId": "b865884b-ffc9-4b3b-a841-50125450617f"
      },
      "source": [
        "sns.set(rc={'figure.figsize':(11.7,8.27)})\n",
        "sns.barplot(data=pd.DataFrame.from_dict([count_dict]).melt(),x = \"variable\", y=\"value\", hue=\"variable\");"
      ],
      "execution_count": 176,
      "outputs": [
        {
          "output_type": "display_data",
          "data": {
            "image/png": "[encoded data removed]",
            "text/plain": [
              "<Figure size 842.4x595.44 with 1 Axes>"
            ]
          },
          "metadata": {
            "tags": []
          }
        }
      ]
    },
    {
      "cell_type": "markdown",
      "metadata": {
        "id": "0s7g15SdjH1p"
      },
      "source": [
        "Looks like the dataset is very well balanced, so no need for weighted random sampling. Subset randomsampler would suffice."
      ]
    },
    {
      "cell_type": "markdown",
      "metadata": {
        "id": "4ddFKKmdsJGE"
      },
      "source": [
        " In case you have to deal with poorly sampled dataset, here is weighted random sampling"
      ]
    },
    {
      "cell_type": "markdown",
      "metadata": {
        "id": "yIYeRRnmzYno"
      },
      "source": [
        "### Dealing with imbalanced datasets:\n",
        "\n",
        "```WeightedRandomSampler``` is used to ensure that each batch sees a proportional number of all classes"
      ]
    },
    {
      "cell_type": "code",
      "metadata": {
        "colab": {
          "base_uri": "https://localhost:8080/"
        },
        "id": "Pysh8mvgzYV1",
        "outputId": "90275f64-5412-424a-bfde-40cc203c2485"
      },
      "source": [
        "# 1. Get all the target classes\n",
        "target_list = torch.tensor(train__dataset.targets)\n",
        "target_list"
      ],
      "execution_count": 189,
      "outputs": [
        {
          "output_type": "execute_result",
          "data": {
            "text/plain": [
              "tensor([0, 0, 0,  ..., 9, 9, 9])"
            ]
          },
          "metadata": {
            "tags": []
          },
          "execution_count": 189
        }
      ]
    },
    {
      "cell_type": "code",
      "metadata": {
        "colab": {
          "base_uri": "https://localhost:8080/"
        },
        "id": "rQRgEEL0zNam",
        "outputId": "97cb2dcd-cba2-49ef-b681-91de790ed37a"
      },
      "source": [
        "# 2. Shuffle the target classes\n",
        "target_list_perm = target_list[torch.randperm(len(target_list))]\n",
        "target_list_perm"
      ],
      "execution_count": 190,
      "outputs": [
        {
          "output_type": "execute_result",
          "data": {
            "text/plain": [
              "tensor([8, 9, 0,  ..., 0, 6, 3])"
            ]
          },
          "metadata": {
            "tags": []
          },
          "execution_count": 190
        }
      ]
    },
    {
      "cell_type": "code",
      "metadata": {
        "colab": {
          "base_uri": "https://localhost:8080/"
        },
        "id": "rbsx81mBs9zR",
        "outputId": "6c7d4973-4372-4710-c351-9e694d189c9d"
      },
      "source": [
        "count_dict.values()"
      ],
      "execution_count": 191,
      "outputs": [
        {
          "output_type": "execute_result",
          "data": {
            "text/plain": [
              "dict_values([122, 114, 113, 111, 110, 106, 106, 105, 105, 105])"
            ]
          },
          "metadata": {
            "tags": []
          },
          "execution_count": 191
        }
      ]
    },
    {
      "cell_type": "code",
      "metadata": {
        "colab": {
          "base_uri": "https://localhost:8080/"
        },
        "id": "tUSsXL6v0J6V",
        "outputId": "fb337f1b-3180-42dd-e699-4b7742ec89e4"
      },
      "source": [
        "# 3. Get the class weights. Class weights are the reciprocal of the number of items per class.\n",
        "class_count = [ i for i in count_dict.values()]\n",
        "print(class_count)\n",
        "class_weights = 1./torch.tensor(class_count, dtype=torch.float)\n",
        "class_weights"
      ],
      "execution_count": 192,
      "outputs": [
        {
          "output_type": "stream",
          "text": [
            "[122, 114, 113, 111, 110, 106, 106, 105, 105, 105]\n"
          ],
          "name": "stdout"
        },
        {
          "output_type": "execute_result",
          "data": {
            "text/plain": [
              "tensor([0.0082, 0.0088, 0.0088, 0.0090, 0.0091, 0.0094, 0.0094, 0.0095, 0.0095,\n",
              "        0.0095])"
            ]
          },
          "metadata": {
            "tags": []
          },
          "execution_count": 192
        }
      ]
    },
    {
      "cell_type": "code",
      "metadata": {
        "colab": {
          "base_uri": "https://localhost:8080/"
        },
        "id": "p6I0jX_W1qC6",
        "outputId": "f9d0ec54-4895-4e84-e6ba-20f5cd6e33fd"
      },
      "source": [
        "# 4. Obtain corresponding weight for each target sample.\n",
        "class_weights_all = class_weights[target_list]\n",
        "class_weights_all"
      ],
      "execution_count": 195,
      "outputs": [
        {
          "output_type": "execute_result",
          "data": {
            "text/plain": [
              "tensor([0.0082, 0.0082, 0.0082,  ..., 0.0095, 0.0095, 0.0095])"
            ]
          },
          "metadata": {
            "tags": []
          },
          "execution_count": 195
        }
      ]
    },
    {
      "cell_type": "code",
      "metadata": {
        "id": "crMXh8cC3qhu"
      },
      "source": [
        "weighted_sampler = WeightedRandomSampler(\n",
        "    weights=class_weights_all,\n",
        "    num_samples=len(class_weights_all),\n",
        "    replacement=True\n",
        ")"
      ],
      "execution_count": 198,
      "outputs": []
    },
    {
      "cell_type": "code",
      "metadata": {
        "id": "7P3nnVKV7NEP"
      },
      "source": [
        "# train_loader = DataLoader(dataset=natural_img_dataset, shuffle=False, batch_size=8, sampler=weighted_sampler)"
      ],
      "execution_count": null,
      "outputs": []
    },
    {
      "cell_type": "markdown",
      "metadata": {
        "id": "R8miL3tDbczU"
      },
      "source": [
        "### Data loader"
      ]
    },
    {
      "cell_type": "code",
      "metadata": {
        "id": "I-HX6zMuUMBR"
      },
      "source": [
        "validation_size = 0.1"
      ],
      "execution_count": 94,
      "outputs": []
    },
    {
      "cell_type": "code",
      "metadata": {
        "colab": {
          "base_uri": "https://localhost:8080/"
        },
        "id": "7A-Yh38tXJlR",
        "outputId": "f70022f0-5028-43a4-e295-b6f60096d0c5"
      },
      "source": [
        "num_train = len(train_dataset)\n",
        "indices = list(range(num_train))\n",
        "split = int(np.floor(validation_size * num_train))\n",
        "train_idx, val_idx = indices[split:], indices[:split]\n",
        "print(f\"{len(train_idx)}, {len(val_idx)}\")"
      ],
      "execution_count": 113,
      "outputs": [
        {
          "output_type": "stream",
          "text": [
            "988, 109\n"
          ],
          "name": "stdout"
        }
      ]
    },
    {
      "cell_type": "code",
      "metadata": {
        "id": "2pG7Xhl4UpZV"
      },
      "source": [
        "train_sampler = SubsetRandomSampler(train_idx)\n",
        "val_sampler = SubsetRandomSampler(valid_idx)"
      ],
      "execution_count": 96,
      "outputs": []
    },
    {
      "cell_type": "code",
      "metadata": {
        "id": "cJ8nIcP0Vszg"
      },
      "source": [
        "batch_size = 32"
      ],
      "execution_count": 79,
      "outputs": []
    },
    {
      "cell_type": "code",
      "metadata": {
        "id": "zmkUViPzVBPf"
      },
      "source": [
        "train_loader = torch.utils.data.DataLoader(\n",
        "    train_dataset, batch_size=batch_size, sampler=train_sampler\n",
        ")\n",
        "val_loader = torch.utils.data.DataLoader(\n",
        "    val_dataset, batch_size=batch_size, sampler=valid_sampler   \n",
        ")\n",
        "test_loader = torch.utils.data.DataLoader(\n",
        "    test_dataset, batch_size=batch_size\n",
        ")"
      ],
      "execution_count": 103,
      "outputs": []
    },
    {
      "cell_type": "code",
      "metadata": {
        "colab": {
          "base_uri": "https://localhost:8080/"
        },
        "id": "ieqlFypFXGJX",
        "outputId": "3d85696b-f217-4315-ea32-63c6ef9a3a8d"
      },
      "source": [
        "sample = iter(train_loader)\n",
        "images, classes = sample.next()\n",
        "print(images.shape, classes.shape)"
      ],
      "execution_count": 111,
      "outputs": [
        {
          "output_type": "stream",
          "text": [
            "torch.Size([32, 3, 224, 224]) torch.Size([32])\n"
          ],
          "name": "stdout"
        }
      ]
    },
    {
      "cell_type": "code",
      "metadata": {
        "colab": {
          "base_uri": "https://localhost:8080/",
          "height": 266
        },
        "id": "RCNvSE0VZgQB",
        "outputId": "037c0930-e94b-4c35-9801-9a1341e49c02"
      },
      "source": [
        "for images, _ in sample:\n",
        "    print('images.shape:', images.shape)\n",
        "    plt.figure(figsize=(10, 4))\n",
        "    plt.axis(\"off\")\n",
        "    plt.imshow(make_grid(images, nrow=8).permute((1, 2, 0))) # move the channel dimension\n",
        "    break"
      ],
      "execution_count": 177,
      "outputs": [
        {
          "output_type": "stream",
          "text": [
            "images.shape: torch.Size([32, 3, 224, 224])\n"
          ],
          "name": "stdout"
        },
        {
          "output_type": "display_data",
          "data": {
            "image/png": "[encoded data removed]",
            "text/plain": [
              "<Figure size 720x288 with 1 Axes>"
            ]
          },
          "metadata": {
            "tags": []
          }
        }
      ]
    },
    {
      "cell_type": "markdown",
      "metadata": {
        "id": "2fvVYV_E_q69"
      },
      "source": [
        "## **2. For a custom dataset given images in a csv file**"
      ]
    },
    {
      "cell_type": "markdown",
      "metadata": {
        "id": "7Isujt_xRQTr"
      },
      "source": [
        "### Config and import"
      ]
    },
    {
      "cell_type": "code",
      "metadata": {
        "id": "TQoP7H1TRQTs"
      },
      "source": [
        "import os\n",
        "import torch\n",
        "import torchvision\n",
        "import torchvision.transforms as transforms\n",
        "from torch.utils.data import Subset\n",
        "import matplotlib.pyplot as plt\n",
        "from PIL import Image\n",
        "import tqdm\n",
        "from sklearn.model_selection import train_test_split\n",
        "from torch.utils.data.sampler import SubsetRandomSampler\n",
        "import numpy as np\n",
        "import matplotlib.pyplot as plt\n",
        "import pandas as pd\n",
        "import seaborn as sns\n",
        "from torchvision.utils import make_grid\n",
        "from torch.utils.data.dataset import Dataset\n",
        "from torch.utils.data import WeightedRandomSampler"
      ],
      "execution_count": 51,
      "outputs": []
    },
    {
      "cell_type": "code",
      "metadata": {
        "id": "05bZxu7URQTv"
      },
      "source": [
        "image_size = 224 "
      ],
      "execution_count": 4,
      "outputs": []
    },
    {
      "cell_type": "markdown",
      "metadata": {
        "id": "mXDkA12BvAGn"
      },
      "source": [
        "### Download dataset from kaggle using kaggle api"
      ]
    },
    {
      "cell_type": "code",
      "metadata": {
        "colab": {
          "resources": {
            "http://localhost:8080/nbextensions/google.colab/files.js": {
              "data": "Ly8gQ29weXJpZ2h0IDIwMTcgR29vZ2xlIExMQwovLwovLyBMaWNlbnNlZCB1bmRlciB0aGUgQXBhY2hlIExpY2Vuc2UsIFZlcnNpb24gMi4wICh0aGUgIkxpY2Vuc2UiKTsKLy8geW91IG1heSBub3QgdXNlIHRoaXMgZmlsZSBleGNlcHQgaW4gY29tcGxpYW5jZSB3aXRoIHRoZSBMaWNlbnNlLgovLyBZb3UgbWF5IG9idGFpbiBhIGNvcHkgb2YgdGhlIExpY2Vuc2UgYXQKLy8KLy8gICAgICBodHRwOi8vd3d3LmFwYWNoZS5vcmcvbGljZW5zZXMvTElDRU5TRS0yLjAKLy8KLy8gVW5sZXNzIHJlcXVpcmVkIGJ5IGFwcGxpY2FibGUgbGF3IG9yIGFncmVlZCB0byBpbiB3cml0aW5nLCBzb2Z0d2FyZQovLyBkaXN0cmlidXRlZCB1bmRlciB0aGUgTGljZW5zZSBpcyBkaXN0cmlidXRlZCBvbiBhbiAiQVMgSVMiIEJBU0lTLAovLyBXSVRIT1VUIFdBUlJBTlRJRVMgT1IgQ09ORElUSU9OUyBPRiBBTlkgS0lORCwgZWl0aGVyIGV4cHJlc3Mgb3IgaW1wbGllZC4KLy8gU2VlIHRoZSBMaWNlbnNlIGZvciB0aGUgc3BlY2lmaWMgbGFuZ3VhZ2UgZ292ZXJuaW5nIHBlcm1pc3Npb25zIGFuZAovLyBsaW1pdGF0aW9ucyB1bmRlciB0aGUgTGljZW5zZS4KCi8qKgogKiBAZmlsZW92ZXJ2aWV3IEhlbHBlcnMgZm9yIGdvb2dsZS5jb2xhYiBQeXRob24gbW9kdWxlLgogKi8KKGZ1bmN0aW9uKHNjb3BlKSB7CmZ1bmN0aW9uIHNwYW4odGV4dCwgc3R5bGVBdHRyaWJ1dGVzID0ge30pIHsKICBjb25zdCBlbGVtZW50ID0gZG9jdW1lbnQuY3JlYXRlRWxlbWVudCgnc3BhbicpOwogIGVsZW1lbnQudGV4dENvbnRlbnQgPSB0ZXh0OwogIGZvciAoY29uc3Qga2V5IG9mIE9iamVjdC5rZXlzKHN0eWxlQXR0cmlidXRlcykpIHsKICAgIGVsZW1lbnQuc3R5bGVba2V5XSA9IHN0eWxlQXR0cmlidXRlc1trZXldOwogIH0KICByZXR1cm4gZWxlbWVudDsKfQoKLy8gTWF4IG51bWJlciBvZiBieXRlcyB3aGljaCB3aWxsIGJlIHVwbG9hZGVkIGF0IGEgdGltZS4KY29uc3QgTUFYX1BBWUxPQURfU0laRSA9IDEwMCAqIDEwMjQ7CgpmdW5jdGlvbiBfdXBsb2FkRmlsZXMoaW5wdXRJZCwgb3V0cHV0SWQpIHsKICBjb25zdCBzdGVwcyA9IHVwbG9hZEZpbGVzU3RlcChpbnB1dElkLCBvdXRwdXRJZCk7CiAgY29uc3Qgb3V0cHV0RWxlbWVudCA9IGRvY3VtZW50LmdldEVsZW1lbnRCeUlkKG91dHB1dElkKTsKICAvLyBDYWNoZSBzdGVwcyBvbiB0aGUgb3V0cHV0RWxlbWVudCB0byBtYWtlIGl0IGF2YWlsYWJsZSBmb3IgdGhlIG5leHQgY2FsbAogIC8vIHRvIHVwbG9hZEZpbGVzQ29udGludWUgZnJvbSBQeXRob24uCiAgb3V0cHV0RWxlbWVudC5zdGVwcyA9IHN0ZXBzOwoKICByZXR1cm4gX3VwbG9hZEZpbGVzQ29udGludWUob3V0cHV0SWQpOwp9CgovLyBUaGlzIGlzIHJvdWdobHkgYW4gYXN5bmMgZ2VuZXJhdG9yIChub3Qgc3VwcG9ydGVkIGluIHRoZSBicm93c2VyIHlldCksCi8vIHdoZXJlIHRoZXJlIGFyZSBtdWx0aXBsZSBhc3luY2hyb25vdXMgc3RlcHMgYW5kIHRoZSBQeXRob24gc2lkZSBpcyBnb2luZwovLyB0byBwb2xsIGZvciBjb21wbGV0aW9uIG9mIGVhY2ggc3RlcC4KLy8gVGhpcyB1c2VzIGEgUHJvbWlzZSB0byBibG9jayB0aGUgcHl0aG9uIHNpZGUgb24gY29tcGxldGlvbiBvZiBlYWNoIHN0ZXAsCi8vIHRoZW4gcGFzc2VzIHRoZSByZXN1bHQgb2YgdGhlIHByZXZpb3VzIHN0ZXAgYXMgdGhlIGlucHV0IHRvIHRoZSBuZXh0IHN0ZXAuCmZ1bmN0aW9uIF91cGxvYWRGaWxlc0NvbnRpbnVlKG91dHB1dElkKSB7CiAgY29uc3Qgb3V0cHV0RWxlbWVudCA9IGRvY3VtZW50LmdldEVsZW1lbnRCeUlkKG91dHB1dElkKTsKICBjb25zdCBzdGVwcyA9IG91dHB1dEVsZW1lbnQuc3RlcHM7CgogIGNvbnN0IG5leHQgPSBzdGVwcy5uZXh0KG91dHB1dEVsZW1lbnQubGFzdFByb21pc2VWYWx1ZSk7CiAgcmV0dXJuIFByb21pc2UucmVzb2x2ZShuZXh0LnZhbHVlLnByb21pc2UpLnRoZW4oKHZhbHVlKSA9PiB7CiAgICAvLyBDYWNoZSB0aGUgbGFzdCBwcm9taXNlIHZhbHVlIHRvIG1ha2UgaXQgYXZhaWxhYmxlIHRvIHRoZSBuZXh0CiAgICAvLyBzdGVwIG9mIHRoZSBnZW5lcmF0b3IuCiAgICBvdXRwdXRFbGVtZW50Lmxhc3RQcm9taXNlVmFsdWUgPSB2YWx1ZTsKICAgIHJldHVybiBuZXh0LnZhbHVlLnJlc3BvbnNlOwogIH0pOwp9CgovKioKICogR2VuZXJhdG9yIGZ1bmN0aW9uIHdoaWNoIGlzIGNhbGxlZCBiZXR3ZWVuIGVhY2ggYXN5bmMgc3RlcCBvZiB0aGUgdXBsb2FkCiAqIHByb2Nlc3MuCiAqIEBwYXJhbSB7c3RyaW5nfSBpbnB1dElkIEVsZW1lbnQgSUQgb2YgdGhlIGlucHV0IGZpbGUgcGlja2VyIGVsZW1lbnQuCiAqIEBwYXJhbSB7c3RyaW5nfSBvdXRwdXRJZCBFbGVtZW50IElEIG9mIHRoZSBvdXRwdXQgZGlzcGxheS4KICogQHJldHVybiB7IUl0ZXJhYmxlPCFPYmplY3Q+fSBJdGVyYWJsZSBvZiBuZXh0IHN0ZXBzLgogKi8KZnVuY3Rpb24qIHVwbG9hZEZpbGVzU3RlcChpbnB1dElkLCBvdXRwdXRJZCkgewogIGNvbnN0IGlucHV0RWxlbWVudCA9IGRvY3VtZW50LmdldEVsZW1lbnRCeUlkKGlucHV0SWQpOwogIGlucHV0RWxlbWVudC5kaXNhYmxlZCA9IGZhbHNlOwoKICBjb25zdCBvdXRwdXRFbGVtZW50ID0gZG9jdW1lbnQuZ2V0RWxlbWVudEJ5SWQob3V0cHV0SWQpOwogIG91dHB1dEVsZW1lbnQuaW5uZXJIVE1MID0gJyc7CgogIGNvbnN0IHBpY2tlZFByb21pc2UgPSBuZXcgUHJvbWlzZSgocmVzb2x2ZSkgPT4gewogICAgaW5wdXRFbGVtZW50LmFkZEV2ZW50TGlzdGVuZXIoJ2NoYW5nZScsIChlKSA9PiB7CiAgICAgIHJlc29sdmUoZS50YXJnZXQuZmlsZXMpOwogICAgfSk7CiAgfSk7CgogIGNvbnN0IGNhbmNlbCA9IGRvY3VtZW50LmNyZWF0ZUVsZW1lbnQoJ2J1dHRvbicpOwogIGlucHV0RWxlbWVudC5wYXJlbnRFbGVtZW50LmFwcGVuZENoaWxkKGNhbmNlbCk7CiAgY2FuY2VsLnRleHRDb250ZW50ID0gJ0NhbmNlbCB1cGxvYWQnOwogIGNvbnN0IGNhbmNlbFByb21pc2UgPSBuZXcgUHJvbWlzZSgocmVzb2x2ZSkgPT4gewogICAgY2FuY2VsLm9uY2xpY2sgPSAoKSA9PiB7CiAgICAgIHJlc29sdmUobnVsbCk7CiAgICB9OwogIH0pOwoKICAvLyBXYWl0IGZvciB0aGUgdXNlciB0byBwaWNrIHRoZSBmaWxlcy4KICBjb25zdCBmaWxlcyA9IHlpZWxkIHsKICAgIHByb21pc2U6IFByb21pc2UucmFjZShbcGlja2VkUHJvbWlzZSwgY2FuY2VsUHJvbWlzZV0pLAogICAgcmVzcG9uc2U6IHsKICAgICAgYWN0aW9uOiAnc3RhcnRpbmcnLAogICAgfQogIH07CgogIGNhbmNlbC5yZW1vdmUoKTsKCiAgLy8gRGlzYWJsZSB0aGUgaW5wdXQgZWxlbWVudCBzaW5jZSBmdXJ0aGVyIHBpY2tzIGFyZSBub3QgYWxsb3dlZC4KICBpbnB1dEVsZW1lbnQuZGlzYWJsZWQgPSB0cnVlOwoKICBpZiAoIWZpbGVzKSB7CiAgICByZXR1cm4gewogICAgICByZXNwb25zZTogewogICAgICAgIGFjdGlvbjogJ2NvbXBsZXRlJywKICAgICAgfQogICAgfTsKICB9CgogIGZvciAoY29uc3QgZmlsZSBvZiBmaWxlcykgewogICAgY29uc3QgbGkgPSBkb2N1bWVudC5jcmVhdGVFbGVtZW50KCdsaScpOwogICAgbGkuYXBwZW5kKHNwYW4oZmlsZS5uYW1lLCB7Zm9udFdlaWdodDogJ2JvbGQnfSkpOwogICAgbGkuYXBwZW5kKHNwYW4oCiAgICAgICAgYCgke2ZpbGUudHlwZSB8fCAnbi9hJ30pIC0gJHtmaWxlLnNpemV9IGJ5dGVzLCBgICsKICAgICAgICBgbGFzdCBtb2RpZmllZDogJHsKICAgICAgICAgICAgZmlsZS5sYXN0TW9kaWZpZWREYXRlID8gZmlsZS5sYXN0TW9kaWZpZWREYXRlLnRvTG9jYWxlRGF0ZVN0cmluZygpIDoKICAgICAgICAgICAgICAgICAgICAgICAgICAgICAgICAgICAgJ24vYSd9IC0gYCkpOwogICAgY29uc3QgcGVyY2VudCA9IHNwYW4oJzAlIGRvbmUnKTsKICAgIGxpLmFwcGVuZENoaWxkKHBlcmNlbnQpOwoKICAgIG91dHB1dEVsZW1lbnQuYXBwZW5kQ2hpbGQobGkpOwoKICAgIGNvbnN0IGZpbGVEYXRhUHJvbWlzZSA9IG5ldyBQcm9taXNlKChyZXNvbHZlKSA9PiB7CiAgICAgIGNvbnN0IHJlYWRlciA9IG5ldyBGaWxlUmVhZGVyKCk7CiAgICAgIHJlYWRlci5vbmxvYWQgPSAoZSkgPT4gewogICAgICAgIHJlc29sdmUoZS50YXJnZXQucmVzdWx0KTsKICAgICAgfTsKICAgICAgcmVhZGVyLnJlYWRBc0FycmF5QnVmZmVyKGZpbGUpOwogICAgfSk7CiAgICAvLyBXYWl0IGZvciB0aGUgZGF0YSB0byBiZSByZWFkeS4KICAgIGxldCBmaWxlRGF0YSA9IHlpZWxkIHsKICAgICAgcHJvbWlzZTogZmlsZURhdGFQcm9taXNlLAogICAgICByZXNwb25zZTogewogICAgICAgIGFjdGlvbjogJ2NvbnRpbnVlJywKICAgICAgfQogICAgfTsKCiAgICAvLyBVc2UgYSBjaHVua2VkIHNlbmRpbmcgdG8gYXZvaWQgbWVzc2FnZSBzaXplIGxpbWl0cy4gU2VlIGIvNjIxMTU2NjAuCiAgICBsZXQgcG9zaXRpb24gPSAwOwogICAgd2hpbGUgKHBvc2l0aW9uIDwgZmlsZURhdGEuYnl0ZUxlbmd0aCkgewogICAgICBjb25zdCBsZW5ndGggPSBNYXRoLm1pbihmaWxlRGF0YS5ieXRlTGVuZ3RoIC0gcG9zaXRpb24sIE1BWF9QQVlMT0FEX1NJWkUpOwogICAgICBjb25zdCBjaHVuayA9IG5ldyBVaW50OEFycmF5KGZpbGVEYXRhLCBwb3NpdGlvbiwgbGVuZ3RoKTsKICAgICAgcG9zaXRpb24gKz0gbGVuZ3RoOwoKICAgICAgY29uc3QgYmFzZTY0ID0gYnRvYShTdHJpbmcuZnJvbUNoYXJDb2RlLmFwcGx5KG51bGwsIGNodW5rKSk7CiAgICAgIHlpZWxkIHsKICAgICAgICByZXNwb25zZTogewogICAgICAgICAgYWN0aW9uOiAnYXBwZW5kJywKICAgICAgICAgIGZpbGU6IGZpbGUubmFtZSwKICAgICAgICAgIGRhdGE6IGJhc2U2NCwKICAgICAgICB9LAogICAgICB9OwogICAgICBwZXJjZW50LnRleHRDb250ZW50ID0KICAgICAgICAgIGAke01hdGgucm91bmQoKHBvc2l0aW9uIC8gZmlsZURhdGEuYnl0ZUxlbmd0aCkgKiAxMDApfSUgZG9uZWA7CiAgICB9CiAgfQoKICAvLyBBbGwgZG9uZS4KICB5aWVsZCB7CiAgICByZXNwb25zZTogewogICAgICBhY3Rpb246ICdjb21wbGV0ZScsCiAgICB9CiAgfTsKfQoKc2NvcGUuZ29vZ2xlID0gc2NvcGUuZ29vZ2xlIHx8IHt9OwpzY29wZS5nb29nbGUuY29sYWIgPSBzY29wZS5nb29nbGUuY29sYWIgfHwge307CnNjb3BlLmdvb2dsZS5jb2xhYi5fZmlsZXMgPSB7CiAgX3VwbG9hZEZpbGVzLAogIF91cGxvYWRGaWxlc0NvbnRpbnVlLAp9Owp9KShzZWxmKTsK",
              "ok": true,
              "headers": [
                [
                  "content-type",
                  "application/javascript"
                ]
              ],
              "status": 200,
              "status_text": "OK"
            }
          },
          "base_uri": "https://localhost:8080/",
          "height": 73
        },
        "id": "gDGeA3_KvAGp",
        "outputId": "67022d32-752d-4f46-e69f-9cb4d8928fd1"
      },
      "source": [
        "from google.colab import files\n",
        "# upload the kaggle json file obtained from your kaggle profile\n",
        "uploaded = files.upload()"
      ],
      "execution_count": 5,
      "outputs": [
        {
          "output_type": "display_data",
          "data": {
            "text/html": [
              "\n",
              "     <input type=\"file\" id=\"files-1bd7abd8-80e9-4831-a0d3-33f25a520ae1\" name=\"files[]\" multiple disabled\n",
              "        style=\"border:none\" />\n",
              "     <output id=\"result-1bd7abd8-80e9-4831-a0d3-33f25a520ae1\">\n",
              "      Upload widget is only available when the cell has been executed in the\n",
              "      current browser session. Please rerun this cell to enable.\n",
              "      </output>\n",
              "      <script src=\"/nbextensions/google.colab/files.js\"></script> "
            ],
            "text/plain": [
              "<IPython.core.display.HTML object>"
            ]
          },
          "metadata": {
            "tags": []
          }
        },
        {
          "output_type": "stream",
          "text": [
            "Saving kaggle.json to kaggle.json\n"
          ],
          "name": "stdout"
        }
      ]
    },
    {
      "cell_type": "code",
      "metadata": {
        "colab": {
          "base_uri": "https://localhost:8080/"
        },
        "id": "X-VrTQLFvAGr",
        "outputId": "2918c4dd-0605-4838-aa65-3a3d1995eb2e"
      },
      "source": [
        "for fn in uploaded.keys():\n",
        "  print('User uploaded file \"{name}\" with length {length} bytes'.format(\n",
        "      name=fn, length=len(uploaded[fn])))\n",
        "  \n",
        "# Then move kaggle.json into the folder where the API expects to find it.\n",
        "!mkdir -p ~/.kaggle/ && mv kaggle.json ~/.kaggle/ && chmod 600 ~/.kaggle/kaggle.json"
      ],
      "execution_count": 6,
      "outputs": [
        {
          "output_type": "stream",
          "text": [
            "User uploaded file \"kaggle.json\" with length 66 bytes\n"
          ],
          "name": "stdout"
        }
      ]
    },
    {
      "cell_type": "code",
      "metadata": {
        "id": "vcWPAt-fvAGs"
      },
      "source": [
        "!rm -r dataset"
      ],
      "execution_count": 7,
      "outputs": []
    },
    {
      "cell_type": "code",
      "metadata": {
        "id": "0Ca_YZD0vAGu"
      },
      "source": [
        "%mkdir dataset"
      ],
      "execution_count": 8,
      "outputs": []
    },
    {
      "cell_type": "code",
      "metadata": {
        "colab": {
          "base_uri": "https://localhost:8080/"
        },
        "id": "NlC5Mb7UvAGv",
        "outputId": "0955b213-340f-4ed2-efd1-7547e179e664"
      },
      "source": [
        "%cd dataset"
      ],
      "execution_count": 9,
      "outputs": [
        {
          "output_type": "stream",
          "text": [
            "/content/dataset\n"
          ],
          "name": "stdout"
        }
      ]
    },
    {
      "cell_type": "code",
      "metadata": {
        "colab": {
          "base_uri": "https://localhost:8080/"
        },
        "id": "yrA_GgvyvAGv",
        "outputId": "83cdbd9d-4d31-4cff-fcb2-ca5e57a178b8"
      },
      "source": [
        "!kaggle datasets download -d ashishpatel26/fer2018"
      ],
      "execution_count": 10,
      "outputs": [
        {
          "output_type": "stream",
          "text": [
            "Downloading fer2018.zip to /content/dataset\n",
            " 82% 79.0M/96.6M [00:01<00:00, 42.2MB/s]\n",
            "100% 96.6M/96.6M [00:01<00:00, 77.0MB/s]\n"
          ],
          "name": "stdout"
        }
      ]
    },
    {
      "cell_type": "code",
      "metadata": {
        "colab": {
          "base_uri": "https://localhost:8080/",
          "height": 36
        },
        "id": "4B3DityIvAGy",
        "outputId": "07d7bf1f-642e-4d12-8074-8a2adf877704"
      },
      "source": [
        "%pwd"
      ],
      "execution_count": 11,
      "outputs": [
        {
          "output_type": "execute_result",
          "data": {
            "application/vnd.google.colaboratory.intrinsic+json": {
              "type": "string"
            },
            "text/plain": [
              "'/content/dataset'"
            ]
          },
          "metadata": {
            "tags": []
          },
          "execution_count": 11
        }
      ]
    },
    {
      "cell_type": "code",
      "metadata": {
        "colab": {
          "base_uri": "https://localhost:8080/"
        },
        "id": "XdEVv2KLvAGz",
        "outputId": "ffd3b43f-5009-490d-c514-8082f4c8ea87"
      },
      "source": [
        "!unzip fer2018.zip"
      ],
      "execution_count": 12,
      "outputs": [
        {
          "output_type": "stream",
          "text": [
            "Archive:  fer2018.zip\n",
            "  inflating: README                  \n",
            "  inflating: fer2013.bib             \n",
            "  inflating: fer20131.csv            \n",
            "  inflating: ferSubmission.csv       \n"
          ],
          "name": "stdout"
        }
      ]
    },
    {
      "cell_type": "code",
      "metadata": {
        "colab": {
          "base_uri": "https://localhost:8080/"
        },
        "id": "meVn-C1lvAG0",
        "outputId": "b9a31479-090e-4463-928f-dd51eb1e073b"
      },
      "source": [
        "%cd ../"
      ],
      "execution_count": 13,
      "outputs": [
        {
          "output_type": "stream",
          "text": [
            "/content\n"
          ],
          "name": "stdout"
        }
      ]
    },
    {
      "cell_type": "code",
      "metadata": {
        "colab": {
          "base_uri": "https://localhost:8080/"
        },
        "id": "gq8yIJkQvAG2",
        "outputId": "7d699556-a548-4d11-8a65-6b1523307e2e"
      },
      "source": [
        "%ls"
      ],
      "execution_count": 14,
      "outputs": [
        {
          "output_type": "stream",
          "text": [
            "\u001b[0m\u001b[01;34mdataset\u001b[0m/  \u001b[01;34msample_data\u001b[0m/\n"
          ],
          "name": "stdout"
        }
      ]
    },
    {
      "cell_type": "markdown",
      "metadata": {
        "id": "Q3j1-ACZvNNE"
      },
      "source": [
        "### Read dataset"
      ]
    },
    {
      "cell_type": "code",
      "metadata": {
        "colab": {
          "base_uri": "https://localhost:8080/",
          "height": 206
        },
        "id": "CniGd_MkS3pK",
        "outputId": "169e9674-dfe9-4af6-d4ac-6e2a9b7bd547"
      },
      "source": [
        "df = pd.read_csv('./dataset/fer20131.csv')\n",
        "df.head()"
      ],
      "execution_count": 15,
      "outputs": [
        {
          "output_type": "execute_result",
          "data": {
            "text/html": [
              "<div>\n",
              "<style scoped>\n",
              "    .dataframe tbody tr th:only-of-type {\n",
              "        vertical-align: middle;\n",
              "    }\n",
              "\n",
              "    .dataframe tbody tr th {\n",
              "        vertical-align: top;\n",
              "    }\n",
              "\n",
              "    .dataframe thead th {\n",
              "        text-align: right;\n",
              "    }\n",
              "</style>\n",
              "<table border=\"1\" class=\"dataframe\">\n",
              "  <thead>\n",
              "    <tr style=\"text-align: right;\">\n",
              "      <th></th>\n",
              "      <th>emotion</th>\n",
              "      <th>pixels</th>\n",
              "      <th>Usage</th>\n",
              "    </tr>\n",
              "  </thead>\n",
              "  <tbody>\n",
              "    <tr>\n",
              "      <th>0</th>\n",
              "      <td>0</td>\n",
              "      <td>70 80 82 72 58 58 60 63 54 58 60 48 89 115 121...</td>\n",
              "      <td>Training</td>\n",
              "    </tr>\n",
              "    <tr>\n",
              "      <th>1</th>\n",
              "      <td>0</td>\n",
              "      <td>151 150 147 155 148 133 111 140 170 174 182 15...</td>\n",
              "      <td>Training</td>\n",
              "    </tr>\n",
              "    <tr>\n",
              "      <th>2</th>\n",
              "      <td>2</td>\n",
              "      <td>231 212 156 164 174 138 161 173 182 200 106 38...</td>\n",
              "      <td>Training</td>\n",
              "    </tr>\n",
              "    <tr>\n",
              "      <th>3</th>\n",
              "      <td>4</td>\n",
              "      <td>24 32 36 30 32 23 19 20 30 41 21 22 32 34 21 1...</td>\n",
              "      <td>Training</td>\n",
              "    </tr>\n",
              "    <tr>\n",
              "      <th>4</th>\n",
              "      <td>6</td>\n",
              "      <td>4 0 0 0 0 0 0 0 0 0 0 0 3 15 23 28 48 50 58 84...</td>\n",
              "      <td>Training</td>\n",
              "    </tr>\n",
              "  </tbody>\n",
              "</table>\n",
              "</div>"
            ],
            "text/plain": [
              "   emotion                                             pixels     Usage\n",
              "0        0  70 80 82 72 58 58 60 63 54 58 60 48 89 115 121...  Training\n",
              "1        0  151 150 147 155 148 133 111 140 170 174 182 15...  Training\n",
              "2        2  231 212 156 164 174 138 161 173 182 200 106 38...  Training\n",
              "3        4  24 32 36 30 32 23 19 20 30 41 21 22 32 34 21 1...  Training\n",
              "4        6  4 0 0 0 0 0 0 0 0 0 0 0 3 15 23 28 48 50 58 84...  Training"
            ]
          },
          "metadata": {
            "tags": []
          },
          "execution_count": 15
        }
      ]
    },
    {
      "cell_type": "code",
      "metadata": {
        "colab": {
          "base_uri": "https://localhost:8080/"
        },
        "id": "5dp1TmubTKb0",
        "outputId": "c0139ccd-ee63-476a-ba56-9cef2648c365"
      },
      "source": [
        "df.Usage.value_counts()"
      ],
      "execution_count": 16,
      "outputs": [
        {
          "output_type": "execute_result",
          "data": {
            "text/plain": [
              "Training       28709\n",
              "PublicTest      3589\n",
              "PrivateTest     3589\n",
              "Name: Usage, dtype: int64"
            ]
          },
          "metadata": {
            "tags": []
          },
          "execution_count": 16
        }
      ]
    },
    {
      "cell_type": "code",
      "metadata": {
        "colab": {
          "base_uri": "https://localhost:8080/"
        },
        "id": "HGvMx8RITO9u",
        "outputId": "c7697632-6a05-41fe-b964-46da9391b1ce"
      },
      "source": [
        "standardised_pixels = []\n",
        "for pix in df.pixels:\n",
        "  values = [int(i) for i in pix.split()]\n",
        "  standardised_pixels.append(values)\n",
        "standardised_pixels = np.array(standardised_pixels)\n",
        "standardised_pixels = standardised_pixels/255.0\n",
        "standardised_pixels"
      ],
      "execution_count": 17,
      "outputs": [
        {
          "output_type": "execute_result",
          "data": {
            "text/plain": [
              "array([[0.2745098 , 0.31372549, 0.32156863, ..., 0.41568627, 0.42745098,\n",
              "        0.32156863],\n",
              "       [0.59215686, 0.58823529, 0.57647059, ..., 0.75686275, 0.71764706,\n",
              "        0.72156863],\n",
              "       [0.90588235, 0.83137255, 0.61176471, ..., 0.34509804, 0.43137255,\n",
              "        0.59607843],\n",
              "       ...,\n",
              "       [0.06666667, 0.06666667, 0.0627451 , ..., 0.60392157, 0.52156863,\n",
              "        0.44313725],\n",
              "       [0.11764706, 0.10980392, 0.10980392, ..., 0.1372549 , 0.11764706,\n",
              "        0.10980392],\n",
              "       [0.0745098 , 0.05098039, 0.05490196, ..., 0.74117647, 0.78039216,\n",
              "        0.78823529]])"
            ]
          },
          "metadata": {
            "tags": []
          },
          "execution_count": 17
        }
      ]
    },
    {
      "cell_type": "code",
      "metadata": {
        "colab": {
          "base_uri": "https://localhost:8080/",
          "height": 206
        },
        "id": "Dw1pegdvUPPn",
        "outputId": "1d69853c-00d8-4c83-c60a-85d7c484e999"
      },
      "source": [
        "df.drop(columns=[\"pixels\"], axis=1, inplace=True)\n",
        "df.head()"
      ],
      "execution_count": 18,
      "outputs": [
        {
          "output_type": "execute_result",
          "data": {
            "text/html": [
              "<div>\n",
              "<style scoped>\n",
              "    .dataframe tbody tr th:only-of-type {\n",
              "        vertical-align: middle;\n",
              "    }\n",
              "\n",
              "    .dataframe tbody tr th {\n",
              "        vertical-align: top;\n",
              "    }\n",
              "\n",
              "    .dataframe thead th {\n",
              "        text-align: right;\n",
              "    }\n",
              "</style>\n",
              "<table border=\"1\" class=\"dataframe\">\n",
              "  <thead>\n",
              "    <tr style=\"text-align: right;\">\n",
              "      <th></th>\n",
              "      <th>emotion</th>\n",
              "      <th>Usage</th>\n",
              "    </tr>\n",
              "  </thead>\n",
              "  <tbody>\n",
              "    <tr>\n",
              "      <th>0</th>\n",
              "      <td>0</td>\n",
              "      <td>Training</td>\n",
              "    </tr>\n",
              "    <tr>\n",
              "      <th>1</th>\n",
              "      <td>0</td>\n",
              "      <td>Training</td>\n",
              "    </tr>\n",
              "    <tr>\n",
              "      <th>2</th>\n",
              "      <td>2</td>\n",
              "      <td>Training</td>\n",
              "    </tr>\n",
              "    <tr>\n",
              "      <th>3</th>\n",
              "      <td>4</td>\n",
              "      <td>Training</td>\n",
              "    </tr>\n",
              "    <tr>\n",
              "      <th>4</th>\n",
              "      <td>6</td>\n",
              "      <td>Training</td>\n",
              "    </tr>\n",
              "  </tbody>\n",
              "</table>\n",
              "</div>"
            ],
            "text/plain": [
              "   emotion     Usage\n",
              "0        0  Training\n",
              "1        0  Training\n",
              "2        2  Training\n",
              "3        4  Training\n",
              "4        6  Training"
            ]
          },
          "metadata": {
            "tags": []
          },
          "execution_count": 18
        }
      ]
    },
    {
      "cell_type": "code",
      "metadata": {
        "id": "hc5Pfoy8U4zy"
      },
      "source": [
        "pix_cols = []\n",
        "for i in range(standardised_pixels.shape[1]):\n",
        "  name = f\"pixel_{i}\"\n",
        "  pix_cols.append(name)\n",
        "  df[name] = standardised_pixels[:, i]"
      ],
      "execution_count": 19,
      "outputs": []
    },
    {
      "cell_type": "code",
      "metadata": {
        "colab": {
          "base_uri": "https://localhost:8080/",
          "height": 255
        },
        "id": "ytaxivgKV9zk",
        "outputId": "5a975def-a871-42ff-860b-82d4cdd69596"
      },
      "source": [
        "df.head()"
      ],
      "execution_count": 20,
      "outputs": [
        {
          "output_type": "execute_result",
          "data": {
            "text/html": [
              "<div>\n",
              "<style scoped>\n",
              "    .dataframe tbody tr th:only-of-type {\n",
              "        vertical-align: middle;\n",
              "    }\n",
              "\n",
              "    .dataframe tbody tr th {\n",
              "        vertical-align: top;\n",
              "    }\n",
              "\n",
              "    .dataframe thead th {\n",
              "        text-align: right;\n",
              "    }\n",
              "</style>\n",
              "<table border=\"1\" class=\"dataframe\">\n",
              "  <thead>\n",
              "    <tr style=\"text-align: right;\">\n",
              "      <th></th>\n",
              "      <th>emotion</th>\n",
              "      <th>Usage</th>\n",
              "      <th>pixel_0</th>\n",
              "      <th>pixel_1</th>\n",
              "      <th>pixel_2</th>\n",
              "      <th>pixel_3</th>\n",
              "      <th>pixel_4</th>\n",
              "      <th>pixel_5</th>\n",
              "      <th>pixel_6</th>\n",
              "      <th>pixel_7</th>\n",
              "      <th>pixel_8</th>\n",
              "      <th>pixel_9</th>\n",
              "      <th>pixel_10</th>\n",
              "      <th>pixel_11</th>\n",
              "      <th>pixel_12</th>\n",
              "      <th>pixel_13</th>\n",
              "      <th>pixel_14</th>\n",
              "      <th>pixel_15</th>\n",
              "      <th>pixel_16</th>\n",
              "      <th>pixel_17</th>\n",
              "      <th>pixel_18</th>\n",
              "      <th>pixel_19</th>\n",
              "      <th>pixel_20</th>\n",
              "      <th>pixel_21</th>\n",
              "      <th>pixel_22</th>\n",
              "      <th>pixel_23</th>\n",
              "      <th>pixel_24</th>\n",
              "      <th>pixel_25</th>\n",
              "      <th>pixel_26</th>\n",
              "      <th>pixel_27</th>\n",
              "      <th>pixel_28</th>\n",
              "      <th>pixel_29</th>\n",
              "      <th>pixel_30</th>\n",
              "      <th>pixel_31</th>\n",
              "      <th>pixel_32</th>\n",
              "      <th>pixel_33</th>\n",
              "      <th>pixel_34</th>\n",
              "      <th>pixel_35</th>\n",
              "      <th>pixel_36</th>\n",
              "      <th>pixel_37</th>\n",
              "      <th>...</th>\n",
              "      <th>pixel_2264</th>\n",
              "      <th>pixel_2265</th>\n",
              "      <th>pixel_2266</th>\n",
              "      <th>pixel_2267</th>\n",
              "      <th>pixel_2268</th>\n",
              "      <th>pixel_2269</th>\n",
              "      <th>pixel_2270</th>\n",
              "      <th>pixel_2271</th>\n",
              "      <th>pixel_2272</th>\n",
              "      <th>pixel_2273</th>\n",
              "      <th>pixel_2274</th>\n",
              "      <th>pixel_2275</th>\n",
              "      <th>pixel_2276</th>\n",
              "      <th>pixel_2277</th>\n",
              "      <th>pixel_2278</th>\n",
              "      <th>pixel_2279</th>\n",
              "      <th>pixel_2280</th>\n",
              "      <th>pixel_2281</th>\n",
              "      <th>pixel_2282</th>\n",
              "      <th>pixel_2283</th>\n",
              "      <th>pixel_2284</th>\n",
              "      <th>pixel_2285</th>\n",
              "      <th>pixel_2286</th>\n",
              "      <th>pixel_2287</th>\n",
              "      <th>pixel_2288</th>\n",
              "      <th>pixel_2289</th>\n",
              "      <th>pixel_2290</th>\n",
              "      <th>pixel_2291</th>\n",
              "      <th>pixel_2292</th>\n",
              "      <th>pixel_2293</th>\n",
              "      <th>pixel_2294</th>\n",
              "      <th>pixel_2295</th>\n",
              "      <th>pixel_2296</th>\n",
              "      <th>pixel_2297</th>\n",
              "      <th>pixel_2298</th>\n",
              "      <th>pixel_2299</th>\n",
              "      <th>pixel_2300</th>\n",
              "      <th>pixel_2301</th>\n",
              "      <th>pixel_2302</th>\n",
              "      <th>pixel_2303</th>\n",
              "    </tr>\n",
              "  </thead>\n",
              "  <tbody>\n",
              "    <tr>\n",
              "      <th>0</th>\n",
              "      <td>0</td>\n",
              "      <td>Training</td>\n",
              "      <td>0.274510</td>\n",
              "      <td>0.313725</td>\n",
              "      <td>0.321569</td>\n",
              "      <td>0.282353</td>\n",
              "      <td>0.227451</td>\n",
              "      <td>0.227451</td>\n",
              "      <td>0.235294</td>\n",
              "      <td>0.247059</td>\n",
              "      <td>0.211765</td>\n",
              "      <td>0.227451</td>\n",
              "      <td>0.235294</td>\n",
              "      <td>0.188235</td>\n",
              "      <td>0.349020</td>\n",
              "      <td>0.450980</td>\n",
              "      <td>0.474510</td>\n",
              "      <td>0.466667</td>\n",
              "      <td>0.450980</td>\n",
              "      <td>0.431373</td>\n",
              "      <td>0.384314</td>\n",
              "      <td>0.356863</td>\n",
              "      <td>0.329412</td>\n",
              "      <td>0.329412</td>\n",
              "      <td>0.352941</td>\n",
              "      <td>0.388235</td>\n",
              "      <td>0.431373</td>\n",
              "      <td>0.494118</td>\n",
              "      <td>0.560784</td>\n",
              "      <td>0.600000</td>\n",
              "      <td>0.619608</td>\n",
              "      <td>0.670588</td>\n",
              "      <td>0.662745</td>\n",
              "      <td>0.674510</td>\n",
              "      <td>0.662745</td>\n",
              "      <td>0.647059</td>\n",
              "      <td>0.505882</td>\n",
              "      <td>0.431373</td>\n",
              "      <td>0.443137</td>\n",
              "      <td>0.419608</td>\n",
              "      <td>...</td>\n",
              "      <td>0.078431</td>\n",
              "      <td>0.121569</td>\n",
              "      <td>0.156863</td>\n",
              "      <td>0.180392</td>\n",
              "      <td>0.254902</td>\n",
              "      <td>0.345098</td>\n",
              "      <td>0.423529</td>\n",
              "      <td>0.431373</td>\n",
              "      <td>0.490196</td>\n",
              "      <td>0.584314</td>\n",
              "      <td>0.615686</td>\n",
              "      <td>0.600000</td>\n",
              "      <td>0.635294</td>\n",
              "      <td>0.643137</td>\n",
              "      <td>0.619608</td>\n",
              "      <td>0.623529</td>\n",
              "      <td>0.603922</td>\n",
              "      <td>0.549020</td>\n",
              "      <td>0.305882</td>\n",
              "      <td>0.082353</td>\n",
              "      <td>0.043137</td>\n",
              "      <td>0.239216</td>\n",
              "      <td>0.564706</td>\n",
              "      <td>0.658824</td>\n",
              "      <td>0.678431</td>\n",
              "      <td>0.615686</td>\n",
              "      <td>0.541176</td>\n",
              "      <td>0.588235</td>\n",
              "      <td>0.580392</td>\n",
              "      <td>0.517647</td>\n",
              "      <td>0.623529</td>\n",
              "      <td>0.713725</td>\n",
              "      <td>0.717647</td>\n",
              "      <td>0.533333</td>\n",
              "      <td>0.415686</td>\n",
              "      <td>0.454902</td>\n",
              "      <td>0.372549</td>\n",
              "      <td>0.415686</td>\n",
              "      <td>0.427451</td>\n",
              "      <td>0.321569</td>\n",
              "    </tr>\n",
              "    <tr>\n",
              "      <th>1</th>\n",
              "      <td>0</td>\n",
              "      <td>Training</td>\n",
              "      <td>0.592157</td>\n",
              "      <td>0.588235</td>\n",
              "      <td>0.576471</td>\n",
              "      <td>0.607843</td>\n",
              "      <td>0.580392</td>\n",
              "      <td>0.521569</td>\n",
              "      <td>0.435294</td>\n",
              "      <td>0.549020</td>\n",
              "      <td>0.666667</td>\n",
              "      <td>0.682353</td>\n",
              "      <td>0.713725</td>\n",
              "      <td>0.603922</td>\n",
              "      <td>0.600000</td>\n",
              "      <td>0.643137</td>\n",
              "      <td>0.678431</td>\n",
              "      <td>0.698039</td>\n",
              "      <td>0.725490</td>\n",
              "      <td>0.725490</td>\n",
              "      <td>0.741176</td>\n",
              "      <td>0.733333</td>\n",
              "      <td>0.729412</td>\n",
              "      <td>0.756863</td>\n",
              "      <td>0.760784</td>\n",
              "      <td>0.725490</td>\n",
              "      <td>0.717647</td>\n",
              "      <td>0.729412</td>\n",
              "      <td>0.705882</td>\n",
              "      <td>0.678431</td>\n",
              "      <td>0.650980</td>\n",
              "      <td>0.631373</td>\n",
              "      <td>0.576471</td>\n",
              "      <td>0.521569</td>\n",
              "      <td>0.674510</td>\n",
              "      <td>0.592157</td>\n",
              "      <td>0.447059</td>\n",
              "      <td>0.631373</td>\n",
              "      <td>0.631373</td>\n",
              "      <td>0.572549</td>\n",
              "      <td>...</td>\n",
              "      <td>0.588235</td>\n",
              "      <td>0.505882</td>\n",
              "      <td>0.560784</td>\n",
              "      <td>0.529412</td>\n",
              "      <td>0.450980</td>\n",
              "      <td>0.400000</td>\n",
              "      <td>0.435294</td>\n",
              "      <td>0.486275</td>\n",
              "      <td>0.439216</td>\n",
              "      <td>0.427451</td>\n",
              "      <td>0.517647</td>\n",
              "      <td>0.572549</td>\n",
              "      <td>0.529412</td>\n",
              "      <td>0.584314</td>\n",
              "      <td>0.580392</td>\n",
              "      <td>0.560784</td>\n",
              "      <td>0.639216</td>\n",
              "      <td>0.611765</td>\n",
              "      <td>0.623529</td>\n",
              "      <td>0.588235</td>\n",
              "      <td>0.545098</td>\n",
              "      <td>0.501961</td>\n",
              "      <td>0.454902</td>\n",
              "      <td>0.490196</td>\n",
              "      <td>0.521569</td>\n",
              "      <td>0.427451</td>\n",
              "      <td>0.509804</td>\n",
              "      <td>0.576471</td>\n",
              "      <td>0.509804</td>\n",
              "      <td>0.474510</td>\n",
              "      <td>0.411765</td>\n",
              "      <td>0.423529</td>\n",
              "      <td>0.372549</td>\n",
              "      <td>0.423529</td>\n",
              "      <td>0.400000</td>\n",
              "      <td>0.262745</td>\n",
              "      <td>0.670588</td>\n",
              "      <td>0.756863</td>\n",
              "      <td>0.717647</td>\n",
              "      <td>0.721569</td>\n",
              "    </tr>\n",
              "    <tr>\n",
              "      <th>2</th>\n",
              "      <td>2</td>\n",
              "      <td>Training</td>\n",
              "      <td>0.905882</td>\n",
              "      <td>0.831373</td>\n",
              "      <td>0.611765</td>\n",
              "      <td>0.643137</td>\n",
              "      <td>0.682353</td>\n",
              "      <td>0.541176</td>\n",
              "      <td>0.631373</td>\n",
              "      <td>0.678431</td>\n",
              "      <td>0.713725</td>\n",
              "      <td>0.784314</td>\n",
              "      <td>0.415686</td>\n",
              "      <td>0.149020</td>\n",
              "      <td>0.152941</td>\n",
              "      <td>0.290196</td>\n",
              "      <td>0.541176</td>\n",
              "      <td>0.631373</td>\n",
              "      <td>0.643137</td>\n",
              "      <td>0.701961</td>\n",
              "      <td>0.745098</td>\n",
              "      <td>0.788235</td>\n",
              "      <td>0.823529</td>\n",
              "      <td>0.847059</td>\n",
              "      <td>0.862745</td>\n",
              "      <td>0.878431</td>\n",
              "      <td>0.870588</td>\n",
              "      <td>0.854902</td>\n",
              "      <td>0.847059</td>\n",
              "      <td>0.835294</td>\n",
              "      <td>0.850980</td>\n",
              "      <td>0.862745</td>\n",
              "      <td>0.862745</td>\n",
              "      <td>0.854902</td>\n",
              "      <td>0.850980</td>\n",
              "      <td>0.831373</td>\n",
              "      <td>0.682353</td>\n",
              "      <td>0.627451</td>\n",
              "      <td>0.635294</td>\n",
              "      <td>0.627451</td>\n",
              "      <td>...</td>\n",
              "      <td>0.882353</td>\n",
              "      <td>0.862745</td>\n",
              "      <td>0.843137</td>\n",
              "      <td>0.811765</td>\n",
              "      <td>0.780392</td>\n",
              "      <td>0.654902</td>\n",
              "      <td>0.423529</td>\n",
              "      <td>0.592157</td>\n",
              "      <td>0.478431</td>\n",
              "      <td>0.345098</td>\n",
              "      <td>0.278431</td>\n",
              "      <td>0.329412</td>\n",
              "      <td>0.470588</td>\n",
              "      <td>0.498039</td>\n",
              "      <td>0.411765</td>\n",
              "      <td>0.298039</td>\n",
              "      <td>0.278431</td>\n",
              "      <td>0.305882</td>\n",
              "      <td>0.352941</td>\n",
              "      <td>0.415686</td>\n",
              "      <td>0.482353</td>\n",
              "      <td>0.572549</td>\n",
              "      <td>0.607843</td>\n",
              "      <td>0.580392</td>\n",
              "      <td>0.509804</td>\n",
              "      <td>0.552941</td>\n",
              "      <td>0.466667</td>\n",
              "      <td>0.270588</td>\n",
              "      <td>0.211765</td>\n",
              "      <td>0.349020</td>\n",
              "      <td>0.407843</td>\n",
              "      <td>0.541176</td>\n",
              "      <td>0.596078</td>\n",
              "      <td>0.478431</td>\n",
              "      <td>0.447059</td>\n",
              "      <td>0.396078</td>\n",
              "      <td>0.380392</td>\n",
              "      <td>0.345098</td>\n",
              "      <td>0.431373</td>\n",
              "      <td>0.596078</td>\n",
              "    </tr>\n",
              "    <tr>\n",
              "      <th>3</th>\n",
              "      <td>4</td>\n",
              "      <td>Training</td>\n",
              "      <td>0.094118</td>\n",
              "      <td>0.125490</td>\n",
              "      <td>0.141176</td>\n",
              "      <td>0.117647</td>\n",
              "      <td>0.125490</td>\n",
              "      <td>0.090196</td>\n",
              "      <td>0.074510</td>\n",
              "      <td>0.078431</td>\n",
              "      <td>0.117647</td>\n",
              "      <td>0.160784</td>\n",
              "      <td>0.082353</td>\n",
              "      <td>0.086275</td>\n",
              "      <td>0.125490</td>\n",
              "      <td>0.133333</td>\n",
              "      <td>0.082353</td>\n",
              "      <td>0.074510</td>\n",
              "      <td>0.168627</td>\n",
              "      <td>0.203922</td>\n",
              "      <td>0.050980</td>\n",
              "      <td>0.101961</td>\n",
              "      <td>0.156863</td>\n",
              "      <td>0.231373</td>\n",
              "      <td>0.254902</td>\n",
              "      <td>0.047059</td>\n",
              "      <td>0.078431</td>\n",
              "      <td>0.247059</td>\n",
              "      <td>0.388235</td>\n",
              "      <td>0.384314</td>\n",
              "      <td>0.384314</td>\n",
              "      <td>0.435294</td>\n",
              "      <td>0.294118</td>\n",
              "      <td>0.243137</td>\n",
              "      <td>0.160784</td>\n",
              "      <td>0.286275</td>\n",
              "      <td>0.462745</td>\n",
              "      <td>0.549020</td>\n",
              "      <td>0.752941</td>\n",
              "      <td>0.729412</td>\n",
              "      <td>...</td>\n",
              "      <td>0.486275</td>\n",
              "      <td>0.588235</td>\n",
              "      <td>0.631373</td>\n",
              "      <td>0.654902</td>\n",
              "      <td>0.662745</td>\n",
              "      <td>0.654902</td>\n",
              "      <td>0.635294</td>\n",
              "      <td>0.643137</td>\n",
              "      <td>0.662745</td>\n",
              "      <td>0.709804</td>\n",
              "      <td>0.674510</td>\n",
              "      <td>0.658824</td>\n",
              "      <td>0.662745</td>\n",
              "      <td>0.666667</td>\n",
              "      <td>0.682353</td>\n",
              "      <td>0.701961</td>\n",
              "      <td>0.705882</td>\n",
              "      <td>0.713725</td>\n",
              "      <td>0.768627</td>\n",
              "      <td>0.815686</td>\n",
              "      <td>0.886275</td>\n",
              "      <td>0.901961</td>\n",
              "      <td>0.549020</td>\n",
              "      <td>0.443137</td>\n",
              "      <td>0.447059</td>\n",
              "      <td>0.490196</td>\n",
              "      <td>0.529412</td>\n",
              "      <td>0.552941</td>\n",
              "      <td>0.674510</td>\n",
              "      <td>0.839216</td>\n",
              "      <td>0.682353</td>\n",
              "      <td>0.494118</td>\n",
              "      <td>0.517647</td>\n",
              "      <td>0.517647</td>\n",
              "      <td>0.521569</td>\n",
              "      <td>0.533333</td>\n",
              "      <td>0.545098</td>\n",
              "      <td>0.556863</td>\n",
              "      <td>0.560784</td>\n",
              "      <td>0.556863</td>\n",
              "    </tr>\n",
              "    <tr>\n",
              "      <th>4</th>\n",
              "      <td>6</td>\n",
              "      <td>Training</td>\n",
              "      <td>0.015686</td>\n",
              "      <td>0.000000</td>\n",
              "      <td>0.000000</td>\n",
              "      <td>0.000000</td>\n",
              "      <td>0.000000</td>\n",
              "      <td>0.000000</td>\n",
              "      <td>0.000000</td>\n",
              "      <td>0.000000</td>\n",
              "      <td>0.000000</td>\n",
              "      <td>0.000000</td>\n",
              "      <td>0.000000</td>\n",
              "      <td>0.000000</td>\n",
              "      <td>0.011765</td>\n",
              "      <td>0.058824</td>\n",
              "      <td>0.090196</td>\n",
              "      <td>0.109804</td>\n",
              "      <td>0.188235</td>\n",
              "      <td>0.196078</td>\n",
              "      <td>0.227451</td>\n",
              "      <td>0.329412</td>\n",
              "      <td>0.450980</td>\n",
              "      <td>0.498039</td>\n",
              "      <td>0.537255</td>\n",
              "      <td>0.556863</td>\n",
              "      <td>0.592157</td>\n",
              "      <td>0.611765</td>\n",
              "      <td>0.607843</td>\n",
              "      <td>0.584314</td>\n",
              "      <td>0.600000</td>\n",
              "      <td>0.596078</td>\n",
              "      <td>0.615686</td>\n",
              "      <td>0.627451</td>\n",
              "      <td>0.635294</td>\n",
              "      <td>0.623529</td>\n",
              "      <td>0.568627</td>\n",
              "      <td>0.474510</td>\n",
              "      <td>0.325490</td>\n",
              "      <td>0.227451</td>\n",
              "      <td>...</td>\n",
              "      <td>0.070588</td>\n",
              "      <td>0.105882</td>\n",
              "      <td>0.074510</td>\n",
              "      <td>0.050980</td>\n",
              "      <td>0.043137</td>\n",
              "      <td>0.086275</td>\n",
              "      <td>0.145098</td>\n",
              "      <td>0.188235</td>\n",
              "      <td>0.215686</td>\n",
              "      <td>0.262745</td>\n",
              "      <td>0.345098</td>\n",
              "      <td>0.372549</td>\n",
              "      <td>0.439216</td>\n",
              "      <td>0.462745</td>\n",
              "      <td>0.482353</td>\n",
              "      <td>0.552941</td>\n",
              "      <td>0.615686</td>\n",
              "      <td>0.682353</td>\n",
              "      <td>0.709804</td>\n",
              "      <td>0.725490</td>\n",
              "      <td>0.721569</td>\n",
              "      <td>0.701961</td>\n",
              "      <td>0.690196</td>\n",
              "      <td>0.670588</td>\n",
              "      <td>0.607843</td>\n",
              "      <td>0.501961</td>\n",
              "      <td>0.411765</td>\n",
              "      <td>0.039216</td>\n",
              "      <td>0.000000</td>\n",
              "      <td>0.000000</td>\n",
              "      <td>0.047059</td>\n",
              "      <td>0.133333</td>\n",
              "      <td>0.121569</td>\n",
              "      <td>0.121569</td>\n",
              "      <td>0.121569</td>\n",
              "      <td>0.105882</td>\n",
              "      <td>0.121569</td>\n",
              "      <td>0.117647</td>\n",
              "      <td>0.113725</td>\n",
              "      <td>0.117647</td>\n",
              "    </tr>\n",
              "  </tbody>\n",
              "</table>\n",
              "<p>5 rows × 2306 columns</p>\n",
              "</div>"
            ],
            "text/plain": [
              "   emotion     Usage   pixel_0  ...  pixel_2301  pixel_2302  pixel_2303\n",
              "0        0  Training  0.274510  ...    0.415686    0.427451    0.321569\n",
              "1        0  Training  0.592157  ...    0.756863    0.717647    0.721569\n",
              "2        2  Training  0.905882  ...    0.345098    0.431373    0.596078\n",
              "3        4  Training  0.094118  ...    0.556863    0.560784    0.556863\n",
              "4        6  Training  0.015686  ...    0.117647    0.113725    0.117647\n",
              "\n",
              "[5 rows x 2306 columns]"
            ]
          },
          "metadata": {
            "tags": []
          },
          "execution_count": 20
        }
      ]
    },
    {
      "cell_type": "markdown",
      "metadata": {
        "id": "aShSiJRrWoqO"
      },
      "source": [
        "### Dataset transformation"
      ]
    },
    {
      "cell_type": "code",
      "metadata": {
        "id": "HYndb7yKV_pm"
      },
      "source": [
        "train_transforms = transforms.Compose([\n",
        "                                       transforms.RandomCrop(48, padding=4, padding_mode='reflect'),\n",
        "                                       transforms.RandomHorizontalFlip(),\n",
        "                                       transforms.RandomAffine(degrees=0, translate=(0.01, 0.12), shear=(0.01, 0.03)),\n",
        "                                       transforms.RandomRotation(15),\n",
        "                                       transforms.ToTensor(),\n",
        "                                       # transforms.Normalize(mean, std)\n",
        "                                        ])\n",
        "val_transforms = transforms.Compose([\n",
        "                                        transforms.ToTensor(),\n",
        "                                        # transforms.Normalize(mean, std)\n",
        "                                        ])\n",
        "test_transforms = transforms.Compose([\n",
        "                                        transforms.ToTensor(),\n",
        "                                        # transforms.Normalize(mean, std)\n",
        "                                        ])"
      ],
      "execution_count": 21,
      "outputs": []
    },
    {
      "cell_type": "markdown",
      "metadata": {
        "id": "HFWQa8cGXHA9"
      },
      "source": [
        "### Dataset"
      ]
    },
    {
      "cell_type": "code",
      "metadata": {
        "id": "ypky8az6_1d4"
      },
      "source": [
        "class CustomDataset(Dataset):\n",
        "  def __init__(self, df, transform=None):\n",
        "    self.df = df\n",
        "    self.transform = transform\n",
        "    # this is applied if transform is set to None\n",
        "    self.tensor_transform = transforms.ToTensor()\n",
        "\n",
        "  def __len__(self):\n",
        "    return len(self.df)\n",
        "\n",
        "  def __getitem__(self, index):\n",
        "    row = self.df.iloc[index]\n",
        "    img_class = int(row['emotion'])\n",
        "    img = np.copy(row[pix_cols].values.reshape(48, 48))\n",
        "    img.setflags(write=True)\n",
        "\n",
        "    if self.transform:\n",
        "      img = Image.fromarray(img)\n",
        "      img = self.transform(img)\n",
        "    else:\n",
        "      img = self.tensor_transform(img)\n",
        "    return img, img_class"
      ],
      "execution_count": 23,
      "outputs": []
    },
    {
      "cell_type": "code",
      "metadata": {
        "colab": {
          "base_uri": "https://localhost:8080/"
        },
        "id": "pBVP0tfhcau_",
        "outputId": "ded9561f-50fd-4968-c68c-ed7c207324dc"
      },
      "source": [
        "df.Usage.value_counts()"
      ],
      "execution_count": 24,
      "outputs": [
        {
          "output_type": "execute_result",
          "data": {
            "text/plain": [
              "Training       28709\n",
              "PublicTest      3589\n",
              "PrivateTest     3589\n",
              "Name: Usage, dtype: int64"
            ]
          },
          "metadata": {
            "tags": []
          },
          "execution_count": 24
        }
      ]
    },
    {
      "cell_type": "code",
      "metadata": {
        "colab": {
          "base_uri": "https://localhost:8080/",
          "height": 255
        },
        "id": "BbdvK7cTbOyd",
        "outputId": "6df114e1-84e6-43ad-8334-fc2a7f3eb94c"
      },
      "source": [
        "train_dataframe = df[df['Usage'].isin([\"Training\"])]\n",
        "train_dataframe = train_dataframe.drop('Usage', axis=1)\n",
        "train_dataframe.head()"
      ],
      "execution_count": 25,
      "outputs": [
        {
          "output_type": "execute_result",
          "data": {
            "text/html": [
              "<div>\n",
              "<style scoped>\n",
              "    .dataframe tbody tr th:only-of-type {\n",
              "        vertical-align: middle;\n",
              "    }\n",
              "\n",
              "    .dataframe tbody tr th {\n",
              "        vertical-align: top;\n",
              "    }\n",
              "\n",
              "    .dataframe thead th {\n",
              "        text-align: right;\n",
              "    }\n",
              "</style>\n",
              "<table border=\"1\" class=\"dataframe\">\n",
              "  <thead>\n",
              "    <tr style=\"text-align: right;\">\n",
              "      <th></th>\n",
              "      <th>emotion</th>\n",
              "      <th>pixel_0</th>\n",
              "      <th>pixel_1</th>\n",
              "      <th>pixel_2</th>\n",
              "      <th>pixel_3</th>\n",
              "      <th>pixel_4</th>\n",
              "      <th>pixel_5</th>\n",
              "      <th>pixel_6</th>\n",
              "      <th>pixel_7</th>\n",
              "      <th>pixel_8</th>\n",
              "      <th>pixel_9</th>\n",
              "      <th>pixel_10</th>\n",
              "      <th>pixel_11</th>\n",
              "      <th>pixel_12</th>\n",
              "      <th>pixel_13</th>\n",
              "      <th>pixel_14</th>\n",
              "      <th>pixel_15</th>\n",
              "      <th>pixel_16</th>\n",
              "      <th>pixel_17</th>\n",
              "      <th>pixel_18</th>\n",
              "      <th>pixel_19</th>\n",
              "      <th>pixel_20</th>\n",
              "      <th>pixel_21</th>\n",
              "      <th>pixel_22</th>\n",
              "      <th>pixel_23</th>\n",
              "      <th>pixel_24</th>\n",
              "      <th>pixel_25</th>\n",
              "      <th>pixel_26</th>\n",
              "      <th>pixel_27</th>\n",
              "      <th>pixel_28</th>\n",
              "      <th>pixel_29</th>\n",
              "      <th>pixel_30</th>\n",
              "      <th>pixel_31</th>\n",
              "      <th>pixel_32</th>\n",
              "      <th>pixel_33</th>\n",
              "      <th>pixel_34</th>\n",
              "      <th>pixel_35</th>\n",
              "      <th>pixel_36</th>\n",
              "      <th>pixel_37</th>\n",
              "      <th>pixel_38</th>\n",
              "      <th>...</th>\n",
              "      <th>pixel_2264</th>\n",
              "      <th>pixel_2265</th>\n",
              "      <th>pixel_2266</th>\n",
              "      <th>pixel_2267</th>\n",
              "      <th>pixel_2268</th>\n",
              "      <th>pixel_2269</th>\n",
              "      <th>pixel_2270</th>\n",
              "      <th>pixel_2271</th>\n",
              "      <th>pixel_2272</th>\n",
              "      <th>pixel_2273</th>\n",
              "      <th>pixel_2274</th>\n",
              "      <th>pixel_2275</th>\n",
              "      <th>pixel_2276</th>\n",
              "      <th>pixel_2277</th>\n",
              "      <th>pixel_2278</th>\n",
              "      <th>pixel_2279</th>\n",
              "      <th>pixel_2280</th>\n",
              "      <th>pixel_2281</th>\n",
              "      <th>pixel_2282</th>\n",
              "      <th>pixel_2283</th>\n",
              "      <th>pixel_2284</th>\n",
              "      <th>pixel_2285</th>\n",
              "      <th>pixel_2286</th>\n",
              "      <th>pixel_2287</th>\n",
              "      <th>pixel_2288</th>\n",
              "      <th>pixel_2289</th>\n",
              "      <th>pixel_2290</th>\n",
              "      <th>pixel_2291</th>\n",
              "      <th>pixel_2292</th>\n",
              "      <th>pixel_2293</th>\n",
              "      <th>pixel_2294</th>\n",
              "      <th>pixel_2295</th>\n",
              "      <th>pixel_2296</th>\n",
              "      <th>pixel_2297</th>\n",
              "      <th>pixel_2298</th>\n",
              "      <th>pixel_2299</th>\n",
              "      <th>pixel_2300</th>\n",
              "      <th>pixel_2301</th>\n",
              "      <th>pixel_2302</th>\n",
              "      <th>pixel_2303</th>\n",
              "    </tr>\n",
              "  </thead>\n",
              "  <tbody>\n",
              "    <tr>\n",
              "      <th>0</th>\n",
              "      <td>0</td>\n",
              "      <td>0.274510</td>\n",
              "      <td>0.313725</td>\n",
              "      <td>0.321569</td>\n",
              "      <td>0.282353</td>\n",
              "      <td>0.227451</td>\n",
              "      <td>0.227451</td>\n",
              "      <td>0.235294</td>\n",
              "      <td>0.247059</td>\n",
              "      <td>0.211765</td>\n",
              "      <td>0.227451</td>\n",
              "      <td>0.235294</td>\n",
              "      <td>0.188235</td>\n",
              "      <td>0.349020</td>\n",
              "      <td>0.450980</td>\n",
              "      <td>0.474510</td>\n",
              "      <td>0.466667</td>\n",
              "      <td>0.450980</td>\n",
              "      <td>0.431373</td>\n",
              "      <td>0.384314</td>\n",
              "      <td>0.356863</td>\n",
              "      <td>0.329412</td>\n",
              "      <td>0.329412</td>\n",
              "      <td>0.352941</td>\n",
              "      <td>0.388235</td>\n",
              "      <td>0.431373</td>\n",
              "      <td>0.494118</td>\n",
              "      <td>0.560784</td>\n",
              "      <td>0.600000</td>\n",
              "      <td>0.619608</td>\n",
              "      <td>0.670588</td>\n",
              "      <td>0.662745</td>\n",
              "      <td>0.674510</td>\n",
              "      <td>0.662745</td>\n",
              "      <td>0.647059</td>\n",
              "      <td>0.505882</td>\n",
              "      <td>0.431373</td>\n",
              "      <td>0.443137</td>\n",
              "      <td>0.419608</td>\n",
              "      <td>0.372549</td>\n",
              "      <td>...</td>\n",
              "      <td>0.078431</td>\n",
              "      <td>0.121569</td>\n",
              "      <td>0.156863</td>\n",
              "      <td>0.180392</td>\n",
              "      <td>0.254902</td>\n",
              "      <td>0.345098</td>\n",
              "      <td>0.423529</td>\n",
              "      <td>0.431373</td>\n",
              "      <td>0.490196</td>\n",
              "      <td>0.584314</td>\n",
              "      <td>0.615686</td>\n",
              "      <td>0.600000</td>\n",
              "      <td>0.635294</td>\n",
              "      <td>0.643137</td>\n",
              "      <td>0.619608</td>\n",
              "      <td>0.623529</td>\n",
              "      <td>0.603922</td>\n",
              "      <td>0.549020</td>\n",
              "      <td>0.305882</td>\n",
              "      <td>0.082353</td>\n",
              "      <td>0.043137</td>\n",
              "      <td>0.239216</td>\n",
              "      <td>0.564706</td>\n",
              "      <td>0.658824</td>\n",
              "      <td>0.678431</td>\n",
              "      <td>0.615686</td>\n",
              "      <td>0.541176</td>\n",
              "      <td>0.588235</td>\n",
              "      <td>0.580392</td>\n",
              "      <td>0.517647</td>\n",
              "      <td>0.623529</td>\n",
              "      <td>0.713725</td>\n",
              "      <td>0.717647</td>\n",
              "      <td>0.533333</td>\n",
              "      <td>0.415686</td>\n",
              "      <td>0.454902</td>\n",
              "      <td>0.372549</td>\n",
              "      <td>0.415686</td>\n",
              "      <td>0.427451</td>\n",
              "      <td>0.321569</td>\n",
              "    </tr>\n",
              "    <tr>\n",
              "      <th>1</th>\n",
              "      <td>0</td>\n",
              "      <td>0.592157</td>\n",
              "      <td>0.588235</td>\n",
              "      <td>0.576471</td>\n",
              "      <td>0.607843</td>\n",
              "      <td>0.580392</td>\n",
              "      <td>0.521569</td>\n",
              "      <td>0.435294</td>\n",
              "      <td>0.549020</td>\n",
              "      <td>0.666667</td>\n",
              "      <td>0.682353</td>\n",
              "      <td>0.713725</td>\n",
              "      <td>0.603922</td>\n",
              "      <td>0.600000</td>\n",
              "      <td>0.643137</td>\n",
              "      <td>0.678431</td>\n",
              "      <td>0.698039</td>\n",
              "      <td>0.725490</td>\n",
              "      <td>0.725490</td>\n",
              "      <td>0.741176</td>\n",
              "      <td>0.733333</td>\n",
              "      <td>0.729412</td>\n",
              "      <td>0.756863</td>\n",
              "      <td>0.760784</td>\n",
              "      <td>0.725490</td>\n",
              "      <td>0.717647</td>\n",
              "      <td>0.729412</td>\n",
              "      <td>0.705882</td>\n",
              "      <td>0.678431</td>\n",
              "      <td>0.650980</td>\n",
              "      <td>0.631373</td>\n",
              "      <td>0.576471</td>\n",
              "      <td>0.521569</td>\n",
              "      <td>0.674510</td>\n",
              "      <td>0.592157</td>\n",
              "      <td>0.447059</td>\n",
              "      <td>0.631373</td>\n",
              "      <td>0.631373</td>\n",
              "      <td>0.572549</td>\n",
              "      <td>0.513725</td>\n",
              "      <td>...</td>\n",
              "      <td>0.588235</td>\n",
              "      <td>0.505882</td>\n",
              "      <td>0.560784</td>\n",
              "      <td>0.529412</td>\n",
              "      <td>0.450980</td>\n",
              "      <td>0.400000</td>\n",
              "      <td>0.435294</td>\n",
              "      <td>0.486275</td>\n",
              "      <td>0.439216</td>\n",
              "      <td>0.427451</td>\n",
              "      <td>0.517647</td>\n",
              "      <td>0.572549</td>\n",
              "      <td>0.529412</td>\n",
              "      <td>0.584314</td>\n",
              "      <td>0.580392</td>\n",
              "      <td>0.560784</td>\n",
              "      <td>0.639216</td>\n",
              "      <td>0.611765</td>\n",
              "      <td>0.623529</td>\n",
              "      <td>0.588235</td>\n",
              "      <td>0.545098</td>\n",
              "      <td>0.501961</td>\n",
              "      <td>0.454902</td>\n",
              "      <td>0.490196</td>\n",
              "      <td>0.521569</td>\n",
              "      <td>0.427451</td>\n",
              "      <td>0.509804</td>\n",
              "      <td>0.576471</td>\n",
              "      <td>0.509804</td>\n",
              "      <td>0.474510</td>\n",
              "      <td>0.411765</td>\n",
              "      <td>0.423529</td>\n",
              "      <td>0.372549</td>\n",
              "      <td>0.423529</td>\n",
              "      <td>0.400000</td>\n",
              "      <td>0.262745</td>\n",
              "      <td>0.670588</td>\n",
              "      <td>0.756863</td>\n",
              "      <td>0.717647</td>\n",
              "      <td>0.721569</td>\n",
              "    </tr>\n",
              "    <tr>\n",
              "      <th>2</th>\n",
              "      <td>2</td>\n",
              "      <td>0.905882</td>\n",
              "      <td>0.831373</td>\n",
              "      <td>0.611765</td>\n",
              "      <td>0.643137</td>\n",
              "      <td>0.682353</td>\n",
              "      <td>0.541176</td>\n",
              "      <td>0.631373</td>\n",
              "      <td>0.678431</td>\n",
              "      <td>0.713725</td>\n",
              "      <td>0.784314</td>\n",
              "      <td>0.415686</td>\n",
              "      <td>0.149020</td>\n",
              "      <td>0.152941</td>\n",
              "      <td>0.290196</td>\n",
              "      <td>0.541176</td>\n",
              "      <td>0.631373</td>\n",
              "      <td>0.643137</td>\n",
              "      <td>0.701961</td>\n",
              "      <td>0.745098</td>\n",
              "      <td>0.788235</td>\n",
              "      <td>0.823529</td>\n",
              "      <td>0.847059</td>\n",
              "      <td>0.862745</td>\n",
              "      <td>0.878431</td>\n",
              "      <td>0.870588</td>\n",
              "      <td>0.854902</td>\n",
              "      <td>0.847059</td>\n",
              "      <td>0.835294</td>\n",
              "      <td>0.850980</td>\n",
              "      <td>0.862745</td>\n",
              "      <td>0.862745</td>\n",
              "      <td>0.854902</td>\n",
              "      <td>0.850980</td>\n",
              "      <td>0.831373</td>\n",
              "      <td>0.682353</td>\n",
              "      <td>0.627451</td>\n",
              "      <td>0.635294</td>\n",
              "      <td>0.627451</td>\n",
              "      <td>0.545098</td>\n",
              "      <td>...</td>\n",
              "      <td>0.882353</td>\n",
              "      <td>0.862745</td>\n",
              "      <td>0.843137</td>\n",
              "      <td>0.811765</td>\n",
              "      <td>0.780392</td>\n",
              "      <td>0.654902</td>\n",
              "      <td>0.423529</td>\n",
              "      <td>0.592157</td>\n",
              "      <td>0.478431</td>\n",
              "      <td>0.345098</td>\n",
              "      <td>0.278431</td>\n",
              "      <td>0.329412</td>\n",
              "      <td>0.470588</td>\n",
              "      <td>0.498039</td>\n",
              "      <td>0.411765</td>\n",
              "      <td>0.298039</td>\n",
              "      <td>0.278431</td>\n",
              "      <td>0.305882</td>\n",
              "      <td>0.352941</td>\n",
              "      <td>0.415686</td>\n",
              "      <td>0.482353</td>\n",
              "      <td>0.572549</td>\n",
              "      <td>0.607843</td>\n",
              "      <td>0.580392</td>\n",
              "      <td>0.509804</td>\n",
              "      <td>0.552941</td>\n",
              "      <td>0.466667</td>\n",
              "      <td>0.270588</td>\n",
              "      <td>0.211765</td>\n",
              "      <td>0.349020</td>\n",
              "      <td>0.407843</td>\n",
              "      <td>0.541176</td>\n",
              "      <td>0.596078</td>\n",
              "      <td>0.478431</td>\n",
              "      <td>0.447059</td>\n",
              "      <td>0.396078</td>\n",
              "      <td>0.380392</td>\n",
              "      <td>0.345098</td>\n",
              "      <td>0.431373</td>\n",
              "      <td>0.596078</td>\n",
              "    </tr>\n",
              "    <tr>\n",
              "      <th>3</th>\n",
              "      <td>4</td>\n",
              "      <td>0.094118</td>\n",
              "      <td>0.125490</td>\n",
              "      <td>0.141176</td>\n",
              "      <td>0.117647</td>\n",
              "      <td>0.125490</td>\n",
              "      <td>0.090196</td>\n",
              "      <td>0.074510</td>\n",
              "      <td>0.078431</td>\n",
              "      <td>0.117647</td>\n",
              "      <td>0.160784</td>\n",
              "      <td>0.082353</td>\n",
              "      <td>0.086275</td>\n",
              "      <td>0.125490</td>\n",
              "      <td>0.133333</td>\n",
              "      <td>0.082353</td>\n",
              "      <td>0.074510</td>\n",
              "      <td>0.168627</td>\n",
              "      <td>0.203922</td>\n",
              "      <td>0.050980</td>\n",
              "      <td>0.101961</td>\n",
              "      <td>0.156863</td>\n",
              "      <td>0.231373</td>\n",
              "      <td>0.254902</td>\n",
              "      <td>0.047059</td>\n",
              "      <td>0.078431</td>\n",
              "      <td>0.247059</td>\n",
              "      <td>0.388235</td>\n",
              "      <td>0.384314</td>\n",
              "      <td>0.384314</td>\n",
              "      <td>0.435294</td>\n",
              "      <td>0.294118</td>\n",
              "      <td>0.243137</td>\n",
              "      <td>0.160784</td>\n",
              "      <td>0.286275</td>\n",
              "      <td>0.462745</td>\n",
              "      <td>0.549020</td>\n",
              "      <td>0.752941</td>\n",
              "      <td>0.729412</td>\n",
              "      <td>0.733333</td>\n",
              "      <td>...</td>\n",
              "      <td>0.486275</td>\n",
              "      <td>0.588235</td>\n",
              "      <td>0.631373</td>\n",
              "      <td>0.654902</td>\n",
              "      <td>0.662745</td>\n",
              "      <td>0.654902</td>\n",
              "      <td>0.635294</td>\n",
              "      <td>0.643137</td>\n",
              "      <td>0.662745</td>\n",
              "      <td>0.709804</td>\n",
              "      <td>0.674510</td>\n",
              "      <td>0.658824</td>\n",
              "      <td>0.662745</td>\n",
              "      <td>0.666667</td>\n",
              "      <td>0.682353</td>\n",
              "      <td>0.701961</td>\n",
              "      <td>0.705882</td>\n",
              "      <td>0.713725</td>\n",
              "      <td>0.768627</td>\n",
              "      <td>0.815686</td>\n",
              "      <td>0.886275</td>\n",
              "      <td>0.901961</td>\n",
              "      <td>0.549020</td>\n",
              "      <td>0.443137</td>\n",
              "      <td>0.447059</td>\n",
              "      <td>0.490196</td>\n",
              "      <td>0.529412</td>\n",
              "      <td>0.552941</td>\n",
              "      <td>0.674510</td>\n",
              "      <td>0.839216</td>\n",
              "      <td>0.682353</td>\n",
              "      <td>0.494118</td>\n",
              "      <td>0.517647</td>\n",
              "      <td>0.517647</td>\n",
              "      <td>0.521569</td>\n",
              "      <td>0.533333</td>\n",
              "      <td>0.545098</td>\n",
              "      <td>0.556863</td>\n",
              "      <td>0.560784</td>\n",
              "      <td>0.556863</td>\n",
              "    </tr>\n",
              "    <tr>\n",
              "      <th>4</th>\n",
              "      <td>6</td>\n",
              "      <td>0.015686</td>\n",
              "      <td>0.000000</td>\n",
              "      <td>0.000000</td>\n",
              "      <td>0.000000</td>\n",
              "      <td>0.000000</td>\n",
              "      <td>0.000000</td>\n",
              "      <td>0.000000</td>\n",
              "      <td>0.000000</td>\n",
              "      <td>0.000000</td>\n",
              "      <td>0.000000</td>\n",
              "      <td>0.000000</td>\n",
              "      <td>0.000000</td>\n",
              "      <td>0.011765</td>\n",
              "      <td>0.058824</td>\n",
              "      <td>0.090196</td>\n",
              "      <td>0.109804</td>\n",
              "      <td>0.188235</td>\n",
              "      <td>0.196078</td>\n",
              "      <td>0.227451</td>\n",
              "      <td>0.329412</td>\n",
              "      <td>0.450980</td>\n",
              "      <td>0.498039</td>\n",
              "      <td>0.537255</td>\n",
              "      <td>0.556863</td>\n",
              "      <td>0.592157</td>\n",
              "      <td>0.611765</td>\n",
              "      <td>0.607843</td>\n",
              "      <td>0.584314</td>\n",
              "      <td>0.600000</td>\n",
              "      <td>0.596078</td>\n",
              "      <td>0.615686</td>\n",
              "      <td>0.627451</td>\n",
              "      <td>0.635294</td>\n",
              "      <td>0.623529</td>\n",
              "      <td>0.568627</td>\n",
              "      <td>0.474510</td>\n",
              "      <td>0.325490</td>\n",
              "      <td>0.227451</td>\n",
              "      <td>0.188235</td>\n",
              "      <td>...</td>\n",
              "      <td>0.070588</td>\n",
              "      <td>0.105882</td>\n",
              "      <td>0.074510</td>\n",
              "      <td>0.050980</td>\n",
              "      <td>0.043137</td>\n",
              "      <td>0.086275</td>\n",
              "      <td>0.145098</td>\n",
              "      <td>0.188235</td>\n",
              "      <td>0.215686</td>\n",
              "      <td>0.262745</td>\n",
              "      <td>0.345098</td>\n",
              "      <td>0.372549</td>\n",
              "      <td>0.439216</td>\n",
              "      <td>0.462745</td>\n",
              "      <td>0.482353</td>\n",
              "      <td>0.552941</td>\n",
              "      <td>0.615686</td>\n",
              "      <td>0.682353</td>\n",
              "      <td>0.709804</td>\n",
              "      <td>0.725490</td>\n",
              "      <td>0.721569</td>\n",
              "      <td>0.701961</td>\n",
              "      <td>0.690196</td>\n",
              "      <td>0.670588</td>\n",
              "      <td>0.607843</td>\n",
              "      <td>0.501961</td>\n",
              "      <td>0.411765</td>\n",
              "      <td>0.039216</td>\n",
              "      <td>0.000000</td>\n",
              "      <td>0.000000</td>\n",
              "      <td>0.047059</td>\n",
              "      <td>0.133333</td>\n",
              "      <td>0.121569</td>\n",
              "      <td>0.121569</td>\n",
              "      <td>0.121569</td>\n",
              "      <td>0.105882</td>\n",
              "      <td>0.121569</td>\n",
              "      <td>0.117647</td>\n",
              "      <td>0.113725</td>\n",
              "      <td>0.117647</td>\n",
              "    </tr>\n",
              "  </tbody>\n",
              "</table>\n",
              "<p>5 rows × 2305 columns</p>\n",
              "</div>"
            ],
            "text/plain": [
              "   emotion   pixel_0   pixel_1  ...  pixel_2301  pixel_2302  pixel_2303\n",
              "0        0  0.274510  0.313725  ...    0.415686    0.427451    0.321569\n",
              "1        0  0.592157  0.588235  ...    0.756863    0.717647    0.721569\n",
              "2        2  0.905882  0.831373  ...    0.345098    0.431373    0.596078\n",
              "3        4  0.094118  0.125490  ...    0.556863    0.560784    0.556863\n",
              "4        6  0.015686  0.000000  ...    0.117647    0.113725    0.117647\n",
              "\n",
              "[5 rows x 2305 columns]"
            ]
          },
          "metadata": {
            "tags": []
          },
          "execution_count": 25
        }
      ]
    },
    {
      "cell_type": "code",
      "metadata": {
        "colab": {
          "base_uri": "https://localhost:8080/",
          "height": 255
        },
        "id": "hV8-G7l3dBvy",
        "outputId": "cd69d44c-14be-42d8-8ddd-77299120e844"
      },
      "source": [
        "val_dataframe = df[df[\"Usage\"].isin([\"PublicTest\"])]\n",
        "val_dataframe = val_dataframe.drop('Usage', axis=1)\n",
        "val_dataframe.head()"
      ],
      "execution_count": 26,
      "outputs": [
        {
          "output_type": "execute_result",
          "data": {
            "text/html": [
              "<div>\n",
              "<style scoped>\n",
              "    .dataframe tbody tr th:only-of-type {\n",
              "        vertical-align: middle;\n",
              "    }\n",
              "\n",
              "    .dataframe tbody tr th {\n",
              "        vertical-align: top;\n",
              "    }\n",
              "\n",
              "    .dataframe thead th {\n",
              "        text-align: right;\n",
              "    }\n",
              "</style>\n",
              "<table border=\"1\" class=\"dataframe\">\n",
              "  <thead>\n",
              "    <tr style=\"text-align: right;\">\n",
              "      <th></th>\n",
              "      <th>emotion</th>\n",
              "      <th>pixel_0</th>\n",
              "      <th>pixel_1</th>\n",
              "      <th>pixel_2</th>\n",
              "      <th>pixel_3</th>\n",
              "      <th>pixel_4</th>\n",
              "      <th>pixel_5</th>\n",
              "      <th>pixel_6</th>\n",
              "      <th>pixel_7</th>\n",
              "      <th>pixel_8</th>\n",
              "      <th>pixel_9</th>\n",
              "      <th>pixel_10</th>\n",
              "      <th>pixel_11</th>\n",
              "      <th>pixel_12</th>\n",
              "      <th>pixel_13</th>\n",
              "      <th>pixel_14</th>\n",
              "      <th>pixel_15</th>\n",
              "      <th>pixel_16</th>\n",
              "      <th>pixel_17</th>\n",
              "      <th>pixel_18</th>\n",
              "      <th>pixel_19</th>\n",
              "      <th>pixel_20</th>\n",
              "      <th>pixel_21</th>\n",
              "      <th>pixel_22</th>\n",
              "      <th>pixel_23</th>\n",
              "      <th>pixel_24</th>\n",
              "      <th>pixel_25</th>\n",
              "      <th>pixel_26</th>\n",
              "      <th>pixel_27</th>\n",
              "      <th>pixel_28</th>\n",
              "      <th>pixel_29</th>\n",
              "      <th>pixel_30</th>\n",
              "      <th>pixel_31</th>\n",
              "      <th>pixel_32</th>\n",
              "      <th>pixel_33</th>\n",
              "      <th>pixel_34</th>\n",
              "      <th>pixel_35</th>\n",
              "      <th>pixel_36</th>\n",
              "      <th>pixel_37</th>\n",
              "      <th>pixel_38</th>\n",
              "      <th>...</th>\n",
              "      <th>pixel_2264</th>\n",
              "      <th>pixel_2265</th>\n",
              "      <th>pixel_2266</th>\n",
              "      <th>pixel_2267</th>\n",
              "      <th>pixel_2268</th>\n",
              "      <th>pixel_2269</th>\n",
              "      <th>pixel_2270</th>\n",
              "      <th>pixel_2271</th>\n",
              "      <th>pixel_2272</th>\n",
              "      <th>pixel_2273</th>\n",
              "      <th>pixel_2274</th>\n",
              "      <th>pixel_2275</th>\n",
              "      <th>pixel_2276</th>\n",
              "      <th>pixel_2277</th>\n",
              "      <th>pixel_2278</th>\n",
              "      <th>pixel_2279</th>\n",
              "      <th>pixel_2280</th>\n",
              "      <th>pixel_2281</th>\n",
              "      <th>pixel_2282</th>\n",
              "      <th>pixel_2283</th>\n",
              "      <th>pixel_2284</th>\n",
              "      <th>pixel_2285</th>\n",
              "      <th>pixel_2286</th>\n",
              "      <th>pixel_2287</th>\n",
              "      <th>pixel_2288</th>\n",
              "      <th>pixel_2289</th>\n",
              "      <th>pixel_2290</th>\n",
              "      <th>pixel_2291</th>\n",
              "      <th>pixel_2292</th>\n",
              "      <th>pixel_2293</th>\n",
              "      <th>pixel_2294</th>\n",
              "      <th>pixel_2295</th>\n",
              "      <th>pixel_2296</th>\n",
              "      <th>pixel_2297</th>\n",
              "      <th>pixel_2298</th>\n",
              "      <th>pixel_2299</th>\n",
              "      <th>pixel_2300</th>\n",
              "      <th>pixel_2301</th>\n",
              "      <th>pixel_2302</th>\n",
              "      <th>pixel_2303</th>\n",
              "    </tr>\n",
              "  </thead>\n",
              "  <tbody>\n",
              "    <tr>\n",
              "      <th>28709</th>\n",
              "      <td>0</td>\n",
              "      <td>0.996078</td>\n",
              "      <td>0.996078</td>\n",
              "      <td>0.996078</td>\n",
              "      <td>0.996078</td>\n",
              "      <td>0.996078</td>\n",
              "      <td>0.976471</td>\n",
              "      <td>1.000000</td>\n",
              "      <td>0.627451</td>\n",
              "      <td>0.007843</td>\n",
              "      <td>0.227451</td>\n",
              "      <td>0.207843</td>\n",
              "      <td>0.274510</td>\n",
              "      <td>0.301961</td>\n",
              "      <td>0.298039</td>\n",
              "      <td>0.294118</td>\n",
              "      <td>0.305882</td>\n",
              "      <td>0.266667</td>\n",
              "      <td>0.070588</td>\n",
              "      <td>0.125490</td>\n",
              "      <td>0.113725</td>\n",
              "      <td>0.000000</td>\n",
              "      <td>0.211765</td>\n",
              "      <td>0.286275</td>\n",
              "      <td>0.294118</td>\n",
              "      <td>0.282353</td>\n",
              "      <td>0.266667</td>\n",
              "      <td>0.294118</td>\n",
              "      <td>0.301961</td>\n",
              "      <td>0.298039</td>\n",
              "      <td>0.298039</td>\n",
              "      <td>0.294118</td>\n",
              "      <td>0.313725</td>\n",
              "      <td>0.200000</td>\n",
              "      <td>0.141176</td>\n",
              "      <td>0.184314</td>\n",
              "      <td>0.156863</td>\n",
              "      <td>0.172549</td>\n",
              "      <td>0.164706</td>\n",
              "      <td>0.145098</td>\n",
              "      <td>...</td>\n",
              "      <td>0.098039</td>\n",
              "      <td>0.792157</td>\n",
              "      <td>0.780392</td>\n",
              "      <td>0.227451</td>\n",
              "      <td>0.960784</td>\n",
              "      <td>0.909804</td>\n",
              "      <td>0.247059</td>\n",
              "      <td>0.560784</td>\n",
              "      <td>0.945098</td>\n",
              "      <td>0.803922</td>\n",
              "      <td>0.827451</td>\n",
              "      <td>0.839216</td>\n",
              "      <td>0.839216</td>\n",
              "      <td>0.827451</td>\n",
              "      <td>0.823529</td>\n",
              "      <td>0.823529</td>\n",
              "      <td>0.831373</td>\n",
              "      <td>0.862745</td>\n",
              "      <td>0.831373</td>\n",
              "      <td>0.501961</td>\n",
              "      <td>0.505882</td>\n",
              "      <td>0.784314</td>\n",
              "      <td>0.709804</td>\n",
              "      <td>0.482353</td>\n",
              "      <td>0.219608</td>\n",
              "      <td>0.349020</td>\n",
              "      <td>0.372549</td>\n",
              "      <td>0.337255</td>\n",
              "      <td>0.188235</td>\n",
              "      <td>0.352941</td>\n",
              "      <td>0.352941</td>\n",
              "      <td>0.360784</td>\n",
              "      <td>0.388235</td>\n",
              "      <td>0.329412</td>\n",
              "      <td>0.086275</td>\n",
              "      <td>0.000000</td>\n",
              "      <td>0.000000</td>\n",
              "      <td>0.164706</td>\n",
              "      <td>0.505882</td>\n",
              "      <td>0.705882</td>\n",
              "    </tr>\n",
              "    <tr>\n",
              "      <th>28710</th>\n",
              "      <td>1</td>\n",
              "      <td>0.611765</td>\n",
              "      <td>0.721569</td>\n",
              "      <td>0.776471</td>\n",
              "      <td>0.792157</td>\n",
              "      <td>0.800000</td>\n",
              "      <td>0.811765</td>\n",
              "      <td>0.823529</td>\n",
              "      <td>0.831373</td>\n",
              "      <td>0.835294</td>\n",
              "      <td>0.839216</td>\n",
              "      <td>0.843137</td>\n",
              "      <td>0.839216</td>\n",
              "      <td>0.839216</td>\n",
              "      <td>0.835294</td>\n",
              "      <td>0.847059</td>\n",
              "      <td>0.850980</td>\n",
              "      <td>0.854902</td>\n",
              "      <td>0.850980</td>\n",
              "      <td>0.847059</td>\n",
              "      <td>0.839216</td>\n",
              "      <td>0.835294</td>\n",
              "      <td>0.839216</td>\n",
              "      <td>0.835294</td>\n",
              "      <td>0.839216</td>\n",
              "      <td>0.843137</td>\n",
              "      <td>0.827451</td>\n",
              "      <td>0.811765</td>\n",
              "      <td>0.803922</td>\n",
              "      <td>0.800000</td>\n",
              "      <td>0.792157</td>\n",
              "      <td>0.776471</td>\n",
              "      <td>0.764706</td>\n",
              "      <td>0.756863</td>\n",
              "      <td>0.745098</td>\n",
              "      <td>0.721569</td>\n",
              "      <td>0.705882</td>\n",
              "      <td>0.690196</td>\n",
              "      <td>0.682353</td>\n",
              "      <td>0.674510</td>\n",
              "      <td>...</td>\n",
              "      <td>0.356863</td>\n",
              "      <td>0.525490</td>\n",
              "      <td>0.000000</td>\n",
              "      <td>0.031373</td>\n",
              "      <td>0.019608</td>\n",
              "      <td>0.019608</td>\n",
              "      <td>0.023529</td>\n",
              "      <td>0.027451</td>\n",
              "      <td>0.015686</td>\n",
              "      <td>0.019608</td>\n",
              "      <td>0.031373</td>\n",
              "      <td>0.007843</td>\n",
              "      <td>0.047059</td>\n",
              "      <td>0.552941</td>\n",
              "      <td>0.737255</td>\n",
              "      <td>0.745098</td>\n",
              "      <td>0.756863</td>\n",
              "      <td>0.752941</td>\n",
              "      <td>0.784314</td>\n",
              "      <td>0.807843</td>\n",
              "      <td>0.815686</td>\n",
              "      <td>0.811765</td>\n",
              "      <td>0.807843</td>\n",
              "      <td>0.803922</td>\n",
              "      <td>0.800000</td>\n",
              "      <td>0.807843</td>\n",
              "      <td>0.807843</td>\n",
              "      <td>0.807843</td>\n",
              "      <td>0.807843</td>\n",
              "      <td>0.800000</td>\n",
              "      <td>0.788235</td>\n",
              "      <td>0.780392</td>\n",
              "      <td>0.772549</td>\n",
              "      <td>0.756863</td>\n",
              "      <td>0.737255</td>\n",
              "      <td>0.721569</td>\n",
              "      <td>0.705882</td>\n",
              "      <td>0.674510</td>\n",
              "      <td>0.654902</td>\n",
              "      <td>0.631373</td>\n",
              "    </tr>\n",
              "    <tr>\n",
              "      <th>28711</th>\n",
              "      <td>4</td>\n",
              "      <td>0.270588</td>\n",
              "      <td>0.462745</td>\n",
              "      <td>0.239216</td>\n",
              "      <td>0.235294</td>\n",
              "      <td>0.376471</td>\n",
              "      <td>0.474510</td>\n",
              "      <td>0.403922</td>\n",
              "      <td>0.341176</td>\n",
              "      <td>0.403922</td>\n",
              "      <td>0.345098</td>\n",
              "      <td>0.274510</td>\n",
              "      <td>0.352941</td>\n",
              "      <td>0.450980</td>\n",
              "      <td>0.478431</td>\n",
              "      <td>0.482353</td>\n",
              "      <td>0.486275</td>\n",
              "      <td>0.505882</td>\n",
              "      <td>0.517647</td>\n",
              "      <td>0.521569</td>\n",
              "      <td>0.513725</td>\n",
              "      <td>0.513725</td>\n",
              "      <td>0.474510</td>\n",
              "      <td>0.443137</td>\n",
              "      <td>0.431373</td>\n",
              "      <td>0.396078</td>\n",
              "      <td>0.392157</td>\n",
              "      <td>0.388235</td>\n",
              "      <td>0.447059</td>\n",
              "      <td>0.443137</td>\n",
              "      <td>0.411765</td>\n",
              "      <td>0.415686</td>\n",
              "      <td>0.419608</td>\n",
              "      <td>0.470588</td>\n",
              "      <td>0.482353</td>\n",
              "      <td>0.486275</td>\n",
              "      <td>0.509804</td>\n",
              "      <td>0.541176</td>\n",
              "      <td>0.529412</td>\n",
              "      <td>0.533333</td>\n",
              "      <td>...</td>\n",
              "      <td>0.439216</td>\n",
              "      <td>0.364706</td>\n",
              "      <td>0.627451</td>\n",
              "      <td>0.623529</td>\n",
              "      <td>0.549020</td>\n",
              "      <td>0.533333</td>\n",
              "      <td>0.517647</td>\n",
              "      <td>0.478431</td>\n",
              "      <td>0.447059</td>\n",
              "      <td>0.454902</td>\n",
              "      <td>0.505882</td>\n",
              "      <td>0.501961</td>\n",
              "      <td>0.494118</td>\n",
              "      <td>0.498039</td>\n",
              "      <td>0.478431</td>\n",
              "      <td>0.458824</td>\n",
              "      <td>0.431373</td>\n",
              "      <td>0.431373</td>\n",
              "      <td>0.427451</td>\n",
              "      <td>0.431373</td>\n",
              "      <td>0.458824</td>\n",
              "      <td>0.470588</td>\n",
              "      <td>0.470588</td>\n",
              "      <td>0.478431</td>\n",
              "      <td>0.498039</td>\n",
              "      <td>0.501961</td>\n",
              "      <td>0.494118</td>\n",
              "      <td>0.447059</td>\n",
              "      <td>0.396078</td>\n",
              "      <td>0.368627</td>\n",
              "      <td>0.364706</td>\n",
              "      <td>0.364706</td>\n",
              "      <td>0.360784</td>\n",
              "      <td>0.352941</td>\n",
              "      <td>0.360784</td>\n",
              "      <td>0.364706</td>\n",
              "      <td>0.360784</td>\n",
              "      <td>0.345098</td>\n",
              "      <td>0.341176</td>\n",
              "      <td>0.352941</td>\n",
              "    </tr>\n",
              "    <tr>\n",
              "      <th>28712</th>\n",
              "      <td>6</td>\n",
              "      <td>0.803922</td>\n",
              "      <td>0.796078</td>\n",
              "      <td>0.925490</td>\n",
              "      <td>0.615686</td>\n",
              "      <td>0.325490</td>\n",
              "      <td>0.619608</td>\n",
              "      <td>0.470588</td>\n",
              "      <td>0.454902</td>\n",
              "      <td>0.368627</td>\n",
              "      <td>0.337255</td>\n",
              "      <td>0.607843</td>\n",
              "      <td>0.705882</td>\n",
              "      <td>0.803922</td>\n",
              "      <td>0.905882</td>\n",
              "      <td>0.858824</td>\n",
              "      <td>0.850980</td>\n",
              "      <td>0.745098</td>\n",
              "      <td>0.776471</td>\n",
              "      <td>0.815686</td>\n",
              "      <td>0.682353</td>\n",
              "      <td>0.623529</td>\n",
              "      <td>0.654902</td>\n",
              "      <td>0.827451</td>\n",
              "      <td>0.901961</td>\n",
              "      <td>0.843137</td>\n",
              "      <td>0.819608</td>\n",
              "      <td>0.764706</td>\n",
              "      <td>0.823529</td>\n",
              "      <td>0.792157</td>\n",
              "      <td>0.729412</td>\n",
              "      <td>0.733333</td>\n",
              "      <td>0.713725</td>\n",
              "      <td>0.725490</td>\n",
              "      <td>0.866667</td>\n",
              "      <td>0.898039</td>\n",
              "      <td>0.890196</td>\n",
              "      <td>0.854902</td>\n",
              "      <td>0.784314</td>\n",
              "      <td>0.752941</td>\n",
              "      <td>...</td>\n",
              "      <td>0.588235</td>\n",
              "      <td>0.623529</td>\n",
              "      <td>0.670588</td>\n",
              "      <td>0.694118</td>\n",
              "      <td>0.694118</td>\n",
              "      <td>0.698039</td>\n",
              "      <td>0.713725</td>\n",
              "      <td>0.713725</td>\n",
              "      <td>0.709804</td>\n",
              "      <td>0.709804</td>\n",
              "      <td>0.705882</td>\n",
              "      <td>0.701961</td>\n",
              "      <td>0.709804</td>\n",
              "      <td>0.713725</td>\n",
              "      <td>0.705882</td>\n",
              "      <td>0.713725</td>\n",
              "      <td>0.713725</td>\n",
              "      <td>0.721569</td>\n",
              "      <td>0.756863</td>\n",
              "      <td>0.772549</td>\n",
              "      <td>0.776471</td>\n",
              "      <td>0.792157</td>\n",
              "      <td>0.796078</td>\n",
              "      <td>0.800000</td>\n",
              "      <td>0.800000</td>\n",
              "      <td>0.752941</td>\n",
              "      <td>0.631373</td>\n",
              "      <td>0.458824</td>\n",
              "      <td>0.721569</td>\n",
              "      <td>0.854902</td>\n",
              "      <td>0.811765</td>\n",
              "      <td>0.827451</td>\n",
              "      <td>0.835294</td>\n",
              "      <td>0.807843</td>\n",
              "      <td>0.768627</td>\n",
              "      <td>0.709804</td>\n",
              "      <td>0.439216</td>\n",
              "      <td>0.168627</td>\n",
              "      <td>0.321569</td>\n",
              "      <td>0.337255</td>\n",
              "    </tr>\n",
              "    <tr>\n",
              "      <th>28713</th>\n",
              "      <td>3</td>\n",
              "      <td>0.341176</td>\n",
              "      <td>0.309804</td>\n",
              "      <td>0.290196</td>\n",
              "      <td>0.258824</td>\n",
              "      <td>0.290196</td>\n",
              "      <td>0.376471</td>\n",
              "      <td>0.301961</td>\n",
              "      <td>0.313725</td>\n",
              "      <td>0.313725</td>\n",
              "      <td>0.329412</td>\n",
              "      <td>0.325490</td>\n",
              "      <td>0.349020</td>\n",
              "      <td>0.400000</td>\n",
              "      <td>0.356863</td>\n",
              "      <td>0.329412</td>\n",
              "      <td>0.400000</td>\n",
              "      <td>0.423529</td>\n",
              "      <td>0.419608</td>\n",
              "      <td>0.400000</td>\n",
              "      <td>0.349020</td>\n",
              "      <td>0.376471</td>\n",
              "      <td>0.501961</td>\n",
              "      <td>0.596078</td>\n",
              "      <td>0.690196</td>\n",
              "      <td>0.764706</td>\n",
              "      <td>0.811765</td>\n",
              "      <td>0.839216</td>\n",
              "      <td>0.862745</td>\n",
              "      <td>0.870588</td>\n",
              "      <td>0.878431</td>\n",
              "      <td>0.870588</td>\n",
              "      <td>0.862745</td>\n",
              "      <td>0.847059</td>\n",
              "      <td>0.839216</td>\n",
              "      <td>0.803922</td>\n",
              "      <td>0.772549</td>\n",
              "      <td>0.701961</td>\n",
              "      <td>0.576471</td>\n",
              "      <td>0.423529</td>\n",
              "      <td>...</td>\n",
              "      <td>0.196078</td>\n",
              "      <td>0.160784</td>\n",
              "      <td>0.450980</td>\n",
              "      <td>0.588235</td>\n",
              "      <td>0.592157</td>\n",
              "      <td>0.603922</td>\n",
              "      <td>0.615686</td>\n",
              "      <td>0.647059</td>\n",
              "      <td>0.674510</td>\n",
              "      <td>0.698039</td>\n",
              "      <td>0.690196</td>\n",
              "      <td>0.674510</td>\n",
              "      <td>0.639216</td>\n",
              "      <td>0.615686</td>\n",
              "      <td>0.611765</td>\n",
              "      <td>0.592157</td>\n",
              "      <td>0.584314</td>\n",
              "      <td>0.584314</td>\n",
              "      <td>0.596078</td>\n",
              "      <td>0.639216</td>\n",
              "      <td>0.541176</td>\n",
              "      <td>0.231373</td>\n",
              "      <td>0.215686</td>\n",
              "      <td>0.219608</td>\n",
              "      <td>0.137255</td>\n",
              "      <td>0.129412</td>\n",
              "      <td>0.121569</td>\n",
              "      <td>0.121569</td>\n",
              "      <td>0.129412</td>\n",
              "      <td>0.129412</td>\n",
              "      <td>0.129412</td>\n",
              "      <td>0.125490</td>\n",
              "      <td>0.129412</td>\n",
              "      <td>0.137255</td>\n",
              "      <td>0.149020</td>\n",
              "      <td>0.156863</td>\n",
              "      <td>0.176471</td>\n",
              "      <td>0.160784</td>\n",
              "      <td>0.133333</td>\n",
              "      <td>0.125490</td>\n",
              "    </tr>\n",
              "  </tbody>\n",
              "</table>\n",
              "<p>5 rows × 2305 columns</p>\n",
              "</div>"
            ],
            "text/plain": [
              "       emotion   pixel_0   pixel_1  ...  pixel_2301  pixel_2302  pixel_2303\n",
              "28709        0  0.996078  0.996078  ...    0.164706    0.505882    0.705882\n",
              "28710        1  0.611765  0.721569  ...    0.674510    0.654902    0.631373\n",
              "28711        4  0.270588  0.462745  ...    0.345098    0.341176    0.352941\n",
              "28712        6  0.803922  0.796078  ...    0.168627    0.321569    0.337255\n",
              "28713        3  0.341176  0.309804  ...    0.160784    0.133333    0.125490\n",
              "\n",
              "[5 rows x 2305 columns]"
            ]
          },
          "metadata": {
            "tags": []
          },
          "execution_count": 26
        }
      ]
    },
    {
      "cell_type": "code",
      "metadata": {
        "colab": {
          "base_uri": "https://localhost:8080/",
          "height": 255
        },
        "id": "Gs21ibardOgH",
        "outputId": "b8d1698a-09d6-4f6a-eb8e-6a7ccc79018a"
      },
      "source": [
        "test_dataframe = df[df[\"Usage\"].isin([\"PrivateTest\"])]\n",
        "test_dataframe = test_dataframe.drop('Usage', axis=1)\n",
        "test_dataframe.head()"
      ],
      "execution_count": 27,
      "outputs": [
        {
          "output_type": "execute_result",
          "data": {
            "text/html": [
              "<div>\n",
              "<style scoped>\n",
              "    .dataframe tbody tr th:only-of-type {\n",
              "        vertical-align: middle;\n",
              "    }\n",
              "\n",
              "    .dataframe tbody tr th {\n",
              "        vertical-align: top;\n",
              "    }\n",
              "\n",
              "    .dataframe thead th {\n",
              "        text-align: right;\n",
              "    }\n",
              "</style>\n",
              "<table border=\"1\" class=\"dataframe\">\n",
              "  <thead>\n",
              "    <tr style=\"text-align: right;\">\n",
              "      <th></th>\n",
              "      <th>emotion</th>\n",
              "      <th>pixel_0</th>\n",
              "      <th>pixel_1</th>\n",
              "      <th>pixel_2</th>\n",
              "      <th>pixel_3</th>\n",
              "      <th>pixel_4</th>\n",
              "      <th>pixel_5</th>\n",
              "      <th>pixel_6</th>\n",
              "      <th>pixel_7</th>\n",
              "      <th>pixel_8</th>\n",
              "      <th>pixel_9</th>\n",
              "      <th>pixel_10</th>\n",
              "      <th>pixel_11</th>\n",
              "      <th>pixel_12</th>\n",
              "      <th>pixel_13</th>\n",
              "      <th>pixel_14</th>\n",
              "      <th>pixel_15</th>\n",
              "      <th>pixel_16</th>\n",
              "      <th>pixel_17</th>\n",
              "      <th>pixel_18</th>\n",
              "      <th>pixel_19</th>\n",
              "      <th>pixel_20</th>\n",
              "      <th>pixel_21</th>\n",
              "      <th>pixel_22</th>\n",
              "      <th>pixel_23</th>\n",
              "      <th>pixel_24</th>\n",
              "      <th>pixel_25</th>\n",
              "      <th>pixel_26</th>\n",
              "      <th>pixel_27</th>\n",
              "      <th>pixel_28</th>\n",
              "      <th>pixel_29</th>\n",
              "      <th>pixel_30</th>\n",
              "      <th>pixel_31</th>\n",
              "      <th>pixel_32</th>\n",
              "      <th>pixel_33</th>\n",
              "      <th>pixel_34</th>\n",
              "      <th>pixel_35</th>\n",
              "      <th>pixel_36</th>\n",
              "      <th>pixel_37</th>\n",
              "      <th>pixel_38</th>\n",
              "      <th>...</th>\n",
              "      <th>pixel_2264</th>\n",
              "      <th>pixel_2265</th>\n",
              "      <th>pixel_2266</th>\n",
              "      <th>pixel_2267</th>\n",
              "      <th>pixel_2268</th>\n",
              "      <th>pixel_2269</th>\n",
              "      <th>pixel_2270</th>\n",
              "      <th>pixel_2271</th>\n",
              "      <th>pixel_2272</th>\n",
              "      <th>pixel_2273</th>\n",
              "      <th>pixel_2274</th>\n",
              "      <th>pixel_2275</th>\n",
              "      <th>pixel_2276</th>\n",
              "      <th>pixel_2277</th>\n",
              "      <th>pixel_2278</th>\n",
              "      <th>pixel_2279</th>\n",
              "      <th>pixel_2280</th>\n",
              "      <th>pixel_2281</th>\n",
              "      <th>pixel_2282</th>\n",
              "      <th>pixel_2283</th>\n",
              "      <th>pixel_2284</th>\n",
              "      <th>pixel_2285</th>\n",
              "      <th>pixel_2286</th>\n",
              "      <th>pixel_2287</th>\n",
              "      <th>pixel_2288</th>\n",
              "      <th>pixel_2289</th>\n",
              "      <th>pixel_2290</th>\n",
              "      <th>pixel_2291</th>\n",
              "      <th>pixel_2292</th>\n",
              "      <th>pixel_2293</th>\n",
              "      <th>pixel_2294</th>\n",
              "      <th>pixel_2295</th>\n",
              "      <th>pixel_2296</th>\n",
              "      <th>pixel_2297</th>\n",
              "      <th>pixel_2298</th>\n",
              "      <th>pixel_2299</th>\n",
              "      <th>pixel_2300</th>\n",
              "      <th>pixel_2301</th>\n",
              "      <th>pixel_2302</th>\n",
              "      <th>pixel_2303</th>\n",
              "    </tr>\n",
              "  </thead>\n",
              "  <tbody>\n",
              "    <tr>\n",
              "      <th>32298</th>\n",
              "      <td>0</td>\n",
              "      <td>0.666667</td>\n",
              "      <td>0.462745</td>\n",
              "      <td>0.396078</td>\n",
              "      <td>0.345098</td>\n",
              "      <td>0.345098</td>\n",
              "      <td>0.294118</td>\n",
              "      <td>0.305882</td>\n",
              "      <td>0.321569</td>\n",
              "      <td>0.258824</td>\n",
              "      <td>0.290196</td>\n",
              "      <td>0.266667</td>\n",
              "      <td>0.231373</td>\n",
              "      <td>0.247059</td>\n",
              "      <td>0.250980</td>\n",
              "      <td>0.254902</td>\n",
              "      <td>0.352941</td>\n",
              "      <td>0.349020</td>\n",
              "      <td>0.286275</td>\n",
              "      <td>0.313725</td>\n",
              "      <td>0.313725</td>\n",
              "      <td>0.333333</td>\n",
              "      <td>0.345098</td>\n",
              "      <td>0.372549</td>\n",
              "      <td>0.458824</td>\n",
              "      <td>0.517647</td>\n",
              "      <td>0.572549</td>\n",
              "      <td>0.545098</td>\n",
              "      <td>0.596078</td>\n",
              "      <td>0.643137</td>\n",
              "      <td>0.709804</td>\n",
              "      <td>0.713725</td>\n",
              "      <td>0.760784</td>\n",
              "      <td>0.764706</td>\n",
              "      <td>0.635294</td>\n",
              "      <td>0.556863</td>\n",
              "      <td>0.576471</td>\n",
              "      <td>0.592157</td>\n",
              "      <td>0.580392</td>\n",
              "      <td>0.619608</td>\n",
              "      <td>...</td>\n",
              "      <td>0.258824</td>\n",
              "      <td>0.266667</td>\n",
              "      <td>0.384314</td>\n",
              "      <td>0.345098</td>\n",
              "      <td>0.298039</td>\n",
              "      <td>0.372549</td>\n",
              "      <td>0.447059</td>\n",
              "      <td>0.400000</td>\n",
              "      <td>0.427451</td>\n",
              "      <td>0.450980</td>\n",
              "      <td>0.474510</td>\n",
              "      <td>0.509804</td>\n",
              "      <td>0.545098</td>\n",
              "      <td>0.556863</td>\n",
              "      <td>0.568627</td>\n",
              "      <td>0.576471</td>\n",
              "      <td>0.584314</td>\n",
              "      <td>0.588235</td>\n",
              "      <td>0.615686</td>\n",
              "      <td>0.658824</td>\n",
              "      <td>0.658824</td>\n",
              "      <td>0.658824</td>\n",
              "      <td>0.654902</td>\n",
              "      <td>0.627451</td>\n",
              "      <td>0.564706</td>\n",
              "      <td>0.501961</td>\n",
              "      <td>0.494118</td>\n",
              "      <td>0.470588</td>\n",
              "      <td>0.439216</td>\n",
              "      <td>0.560784</td>\n",
              "      <td>0.823529</td>\n",
              "      <td>0.823529</td>\n",
              "      <td>0.870588</td>\n",
              "      <td>0.870588</td>\n",
              "      <td>0.800000</td>\n",
              "      <td>0.745098</td>\n",
              "      <td>0.682353</td>\n",
              "      <td>0.623529</td>\n",
              "      <td>0.521569</td>\n",
              "      <td>0.513725</td>\n",
              "    </tr>\n",
              "    <tr>\n",
              "      <th>32299</th>\n",
              "      <td>5</td>\n",
              "      <td>0.027451</td>\n",
              "      <td>0.019608</td>\n",
              "      <td>0.031373</td>\n",
              "      <td>0.023529</td>\n",
              "      <td>0.027451</td>\n",
              "      <td>0.011765</td>\n",
              "      <td>0.007843</td>\n",
              "      <td>0.023529</td>\n",
              "      <td>0.019608</td>\n",
              "      <td>0.015686</td>\n",
              "      <td>0.015686</td>\n",
              "      <td>0.019608</td>\n",
              "      <td>0.027451</td>\n",
              "      <td>0.019608</td>\n",
              "      <td>0.019608</td>\n",
              "      <td>0.019608</td>\n",
              "      <td>0.023529</td>\n",
              "      <td>0.027451</td>\n",
              "      <td>0.027451</td>\n",
              "      <td>0.027451</td>\n",
              "      <td>0.039216</td>\n",
              "      <td>0.039216</td>\n",
              "      <td>0.031373</td>\n",
              "      <td>0.023529</td>\n",
              "      <td>0.031373</td>\n",
              "      <td>0.043137</td>\n",
              "      <td>0.047059</td>\n",
              "      <td>0.058824</td>\n",
              "      <td>0.035294</td>\n",
              "      <td>0.027451</td>\n",
              "      <td>0.062745</td>\n",
              "      <td>0.082353</td>\n",
              "      <td>0.035294</td>\n",
              "      <td>0.031373</td>\n",
              "      <td>0.050980</td>\n",
              "      <td>0.070588</td>\n",
              "      <td>0.090196</td>\n",
              "      <td>0.078431</td>\n",
              "      <td>0.090196</td>\n",
              "      <td>...</td>\n",
              "      <td>0.043137</td>\n",
              "      <td>0.109804</td>\n",
              "      <td>0.074510</td>\n",
              "      <td>0.047059</td>\n",
              "      <td>0.047059</td>\n",
              "      <td>0.043137</td>\n",
              "      <td>0.035294</td>\n",
              "      <td>0.035294</td>\n",
              "      <td>0.043137</td>\n",
              "      <td>0.039216</td>\n",
              "      <td>0.039216</td>\n",
              "      <td>0.054902</td>\n",
              "      <td>0.070588</td>\n",
              "      <td>0.074510</td>\n",
              "      <td>0.070588</td>\n",
              "      <td>0.054902</td>\n",
              "      <td>0.070588</td>\n",
              "      <td>0.094118</td>\n",
              "      <td>0.082353</td>\n",
              "      <td>0.050980</td>\n",
              "      <td>0.078431</td>\n",
              "      <td>0.227451</td>\n",
              "      <td>0.321569</td>\n",
              "      <td>0.352941</td>\n",
              "      <td>0.364706</td>\n",
              "      <td>0.352941</td>\n",
              "      <td>0.341176</td>\n",
              "      <td>0.309804</td>\n",
              "      <td>0.333333</td>\n",
              "      <td>0.294118</td>\n",
              "      <td>0.160784</td>\n",
              "      <td>0.145098</td>\n",
              "      <td>0.298039</td>\n",
              "      <td>0.345098</td>\n",
              "      <td>0.329412</td>\n",
              "      <td>0.345098</td>\n",
              "      <td>0.321569</td>\n",
              "      <td>0.282353</td>\n",
              "      <td>0.223529</td>\n",
              "      <td>0.203922</td>\n",
              "    </tr>\n",
              "    <tr>\n",
              "      <th>32300</th>\n",
              "      <td>6</td>\n",
              "      <td>0.909804</td>\n",
              "      <td>0.941176</td>\n",
              "      <td>0.945098</td>\n",
              "      <td>0.937255</td>\n",
              "      <td>0.929412</td>\n",
              "      <td>0.921569</td>\n",
              "      <td>0.964706</td>\n",
              "      <td>0.458824</td>\n",
              "      <td>0.094118</td>\n",
              "      <td>0.094118</td>\n",
              "      <td>0.086275</td>\n",
              "      <td>0.050980</td>\n",
              "      <td>0.047059</td>\n",
              "      <td>0.054902</td>\n",
              "      <td>0.035294</td>\n",
              "      <td>0.031373</td>\n",
              "      <td>0.019608</td>\n",
              "      <td>0.023529</td>\n",
              "      <td>0.031373</td>\n",
              "      <td>0.035294</td>\n",
              "      <td>0.035294</td>\n",
              "      <td>0.027451</td>\n",
              "      <td>0.027451</td>\n",
              "      <td>0.023529</td>\n",
              "      <td>0.015686</td>\n",
              "      <td>0.015686</td>\n",
              "      <td>0.015686</td>\n",
              "      <td>0.019608</td>\n",
              "      <td>0.027451</td>\n",
              "      <td>0.015686</td>\n",
              "      <td>0.039216</td>\n",
              "      <td>0.047059</td>\n",
              "      <td>0.047059</td>\n",
              "      <td>0.058824</td>\n",
              "      <td>0.078431</td>\n",
              "      <td>0.054902</td>\n",
              "      <td>0.066667</td>\n",
              "      <td>0.141176</td>\n",
              "      <td>0.807843</td>\n",
              "      <td>...</td>\n",
              "      <td>0.682353</td>\n",
              "      <td>0.596078</td>\n",
              "      <td>0.556863</td>\n",
              "      <td>0.392157</td>\n",
              "      <td>0.109804</td>\n",
              "      <td>0.113725</td>\n",
              "      <td>0.105882</td>\n",
              "      <td>0.109804</td>\n",
              "      <td>0.098039</td>\n",
              "      <td>0.305882</td>\n",
              "      <td>0.078431</td>\n",
              "      <td>0.000000</td>\n",
              "      <td>0.070588</td>\n",
              "      <td>0.094118</td>\n",
              "      <td>0.043137</td>\n",
              "      <td>0.074510</td>\n",
              "      <td>0.141176</td>\n",
              "      <td>0.137255</td>\n",
              "      <td>0.145098</td>\n",
              "      <td>0.117647</td>\n",
              "      <td>0.219608</td>\n",
              "      <td>0.784314</td>\n",
              "      <td>0.815686</td>\n",
              "      <td>0.635294</td>\n",
              "      <td>0.149020</td>\n",
              "      <td>0.396078</td>\n",
              "      <td>0.356863</td>\n",
              "      <td>0.294118</td>\n",
              "      <td>0.419608</td>\n",
              "      <td>0.545098</td>\n",
              "      <td>0.250980</td>\n",
              "      <td>0.082353</td>\n",
              "      <td>0.349020</td>\n",
              "      <td>0.266667</td>\n",
              "      <td>0.180392</td>\n",
              "      <td>0.262745</td>\n",
              "      <td>0.007843</td>\n",
              "      <td>0.015686</td>\n",
              "      <td>0.015686</td>\n",
              "      <td>0.035294</td>\n",
              "    </tr>\n",
              "    <tr>\n",
              "      <th>32301</th>\n",
              "      <td>4</td>\n",
              "      <td>0.784314</td>\n",
              "      <td>0.772549</td>\n",
              "      <td>0.584314</td>\n",
              "      <td>0.545098</td>\n",
              "      <td>0.611765</td>\n",
              "      <td>0.349020</td>\n",
              "      <td>0.435294</td>\n",
              "      <td>0.227451</td>\n",
              "      <td>0.243137</td>\n",
              "      <td>0.372549</td>\n",
              "      <td>0.443137</td>\n",
              "      <td>0.458824</td>\n",
              "      <td>0.454902</td>\n",
              "      <td>0.454902</td>\n",
              "      <td>0.439216</td>\n",
              "      <td>0.435294</td>\n",
              "      <td>0.376471</td>\n",
              "      <td>0.337255</td>\n",
              "      <td>0.388235</td>\n",
              "      <td>0.443137</td>\n",
              "      <td>0.470588</td>\n",
              "      <td>0.458824</td>\n",
              "      <td>0.454902</td>\n",
              "      <td>0.427451</td>\n",
              "      <td>0.447059</td>\n",
              "      <td>0.490196</td>\n",
              "      <td>0.517647</td>\n",
              "      <td>0.533333</td>\n",
              "      <td>0.533333</td>\n",
              "      <td>0.517647</td>\n",
              "      <td>0.501961</td>\n",
              "      <td>0.501961</td>\n",
              "      <td>0.525490</td>\n",
              "      <td>0.517647</td>\n",
              "      <td>0.517647</td>\n",
              "      <td>0.533333</td>\n",
              "      <td>0.541176</td>\n",
              "      <td>0.537255</td>\n",
              "      <td>0.525490</td>\n",
              "      <td>...</td>\n",
              "      <td>0.309804</td>\n",
              "      <td>0.349020</td>\n",
              "      <td>0.388235</td>\n",
              "      <td>0.411765</td>\n",
              "      <td>0.415686</td>\n",
              "      <td>0.450980</td>\n",
              "      <td>0.458824</td>\n",
              "      <td>0.478431</td>\n",
              "      <td>0.525490</td>\n",
              "      <td>0.545098</td>\n",
              "      <td>0.537255</td>\n",
              "      <td>0.560784</td>\n",
              "      <td>0.580392</td>\n",
              "      <td>0.584314</td>\n",
              "      <td>0.584314</td>\n",
              "      <td>0.592157</td>\n",
              "      <td>0.576471</td>\n",
              "      <td>0.584314</td>\n",
              "      <td>0.615686</td>\n",
              "      <td>0.619608</td>\n",
              "      <td>0.572549</td>\n",
              "      <td>0.568627</td>\n",
              "      <td>0.576471</td>\n",
              "      <td>0.537255</td>\n",
              "      <td>0.533333</td>\n",
              "      <td>0.521569</td>\n",
              "      <td>0.501961</td>\n",
              "      <td>0.501961</td>\n",
              "      <td>0.478431</td>\n",
              "      <td>0.501961</td>\n",
              "      <td>0.556863</td>\n",
              "      <td>0.631373</td>\n",
              "      <td>0.725490</td>\n",
              "      <td>0.725490</td>\n",
              "      <td>0.419608</td>\n",
              "      <td>0.572549</td>\n",
              "      <td>0.564706</td>\n",
              "      <td>0.584314</td>\n",
              "      <td>0.129412</td>\n",
              "      <td>0.000000</td>\n",
              "    </tr>\n",
              "    <tr>\n",
              "      <th>32302</th>\n",
              "      <td>2</td>\n",
              "      <td>0.156863</td>\n",
              "      <td>0.109804</td>\n",
              "      <td>0.129412</td>\n",
              "      <td>0.219608</td>\n",
              "      <td>0.176471</td>\n",
              "      <td>0.129412</td>\n",
              "      <td>0.121569</td>\n",
              "      <td>0.305882</td>\n",
              "      <td>0.596078</td>\n",
              "      <td>0.760784</td>\n",
              "      <td>0.784314</td>\n",
              "      <td>0.729412</td>\n",
              "      <td>0.768627</td>\n",
              "      <td>0.811765</td>\n",
              "      <td>0.760784</td>\n",
              "      <td>0.725490</td>\n",
              "      <td>0.772549</td>\n",
              "      <td>0.725490</td>\n",
              "      <td>0.690196</td>\n",
              "      <td>0.654902</td>\n",
              "      <td>0.650980</td>\n",
              "      <td>0.635294</td>\n",
              "      <td>0.627451</td>\n",
              "      <td>0.592157</td>\n",
              "      <td>0.568627</td>\n",
              "      <td>0.556863</td>\n",
              "      <td>0.529412</td>\n",
              "      <td>0.525490</td>\n",
              "      <td>0.525490</td>\n",
              "      <td>0.513725</td>\n",
              "      <td>0.490196</td>\n",
              "      <td>0.478431</td>\n",
              "      <td>0.396078</td>\n",
              "      <td>0.282353</td>\n",
              "      <td>0.188235</td>\n",
              "      <td>0.125490</td>\n",
              "      <td>0.105882</td>\n",
              "      <td>0.086275</td>\n",
              "      <td>0.086275</td>\n",
              "      <td>...</td>\n",
              "      <td>0.545098</td>\n",
              "      <td>0.521569</td>\n",
              "      <td>0.525490</td>\n",
              "      <td>0.549020</td>\n",
              "      <td>0.490196</td>\n",
              "      <td>0.494118</td>\n",
              "      <td>0.564706</td>\n",
              "      <td>0.423529</td>\n",
              "      <td>0.368627</td>\n",
              "      <td>0.313725</td>\n",
              "      <td>0.235294</td>\n",
              "      <td>0.200000</td>\n",
              "      <td>0.203922</td>\n",
              "      <td>0.133333</td>\n",
              "      <td>0.168627</td>\n",
              "      <td>0.184314</td>\n",
              "      <td>0.156863</td>\n",
              "      <td>0.145098</td>\n",
              "      <td>0.129412</td>\n",
              "      <td>0.086275</td>\n",
              "      <td>0.094118</td>\n",
              "      <td>0.101961</td>\n",
              "      <td>0.101961</td>\n",
              "      <td>0.105882</td>\n",
              "      <td>0.101961</td>\n",
              "      <td>0.109804</td>\n",
              "      <td>0.101961</td>\n",
              "      <td>0.113725</td>\n",
              "      <td>0.121569</td>\n",
              "      <td>0.133333</td>\n",
              "      <td>0.098039</td>\n",
              "      <td>0.101961</td>\n",
              "      <td>0.113725</td>\n",
              "      <td>0.101961</td>\n",
              "      <td>0.109804</td>\n",
              "      <td>0.098039</td>\n",
              "      <td>0.094118</td>\n",
              "      <td>0.094118</td>\n",
              "      <td>0.113725</td>\n",
              "      <td>0.101961</td>\n",
              "    </tr>\n",
              "  </tbody>\n",
              "</table>\n",
              "<p>5 rows × 2305 columns</p>\n",
              "</div>"
            ],
            "text/plain": [
              "       emotion   pixel_0   pixel_1  ...  pixel_2301  pixel_2302  pixel_2303\n",
              "32298        0  0.666667  0.462745  ...    0.623529    0.521569    0.513725\n",
              "32299        5  0.027451  0.019608  ...    0.282353    0.223529    0.203922\n",
              "32300        6  0.909804  0.941176  ...    0.015686    0.015686    0.035294\n",
              "32301        4  0.784314  0.772549  ...    0.584314    0.129412    0.000000\n",
              "32302        2  0.156863  0.109804  ...    0.094118    0.113725    0.101961\n",
              "\n",
              "[5 rows x 2305 columns]"
            ]
          },
          "metadata": {
            "tags": []
          },
          "execution_count": 27
        }
      ]
    },
    {
      "cell_type": "code",
      "metadata": {
        "colab": {
          "base_uri": "https://localhost:8080/"
        },
        "id": "nGdpAsbbaj9H",
        "outputId": "36091d61-c67d-419e-b207-26ec42c956bf"
      },
      "source": [
        "print(train_dataframe.shape, val_dataframe.shape, test_dataframe.shape)"
      ],
      "execution_count": 28,
      "outputs": [
        {
          "output_type": "stream",
          "text": [
            "(28709, 2305) (3589, 2305) (3589, 2305)\n"
          ],
          "name": "stdout"
        }
      ]
    },
    {
      "cell_type": "code",
      "metadata": {
        "id": "ZuL81xijXeju"
      },
      "source": [
        "train_dataset = CustomDataset(train_dataframe, transform=train_transforms)\n",
        "val_dataset = CustomDataset(val_dataframe, transform=val_transforms)\n",
        "test_dataset = CustomDataset(test_dataframe, transform=test_transforms)"
      ],
      "execution_count": 29,
      "outputs": []
    },
    {
      "cell_type": "code",
      "metadata": {
        "colab": {
          "base_uri": "https://localhost:8080/"
        },
        "id": "o1na6wLmbBQF",
        "outputId": "6122bb95-5d8b-4ed2-a525-7218cf8e6cbb"
      },
      "source": [
        "len(train_dataset)"
      ],
      "execution_count": 30,
      "outputs": [
        {
          "output_type": "execute_result",
          "data": {
            "text/plain": [
              "28709"
            ]
          },
          "metadata": {
            "tags": []
          },
          "execution_count": 30
        }
      ]
    },
    {
      "cell_type": "markdown",
      "metadata": {
        "id": "-aIPlxCkWaby"
      },
      "source": [
        "### Dataset distribution"
      ]
    },
    {
      "cell_type": "code",
      "metadata": {
        "colab": {
          "base_uri": "https://localhost:8080/"
        },
        "id": "Z7yz_ubYfR_q",
        "outputId": "bf2fee4a-f099-40e5-ebc2-b490573ed991"
      },
      "source": [
        "train_dataset.df.emotion.value_counts()"
      ],
      "execution_count": 31,
      "outputs": [
        {
          "output_type": "execute_result",
          "data": {
            "text/plain": [
              "3    7215\n",
              "6    4965\n",
              "4    4830\n",
              "2    4097\n",
              "0    3995\n",
              "5    3171\n",
              "1     436\n",
              "Name: emotion, dtype: int64"
            ]
          },
          "metadata": {
            "tags": []
          },
          "execution_count": 31
        }
      ]
    },
    {
      "cell_type": "code",
      "metadata": {
        "colab": {
          "base_uri": "https://localhost:8080/"
        },
        "id": "982Ue3kkhmWi",
        "outputId": "26ad46d8-83e2-4be1-c9d7-9249b27e4594"
      },
      "source": [
        "train_dataset.df.emotion.unique()"
      ],
      "execution_count": 32,
      "outputs": [
        {
          "output_type": "execute_result",
          "data": {
            "text/plain": [
              "array([0, 2, 4, 6, 3, 5, 1])"
            ]
          },
          "metadata": {
            "tags": []
          },
          "execution_count": 32
        }
      ]
    },
    {
      "cell_type": "code",
      "metadata": {
        "colab": {
          "base_uri": "https://localhost:8080/"
        },
        "id": "Vssdpt3nhVxH",
        "outputId": "ca84e414-0762-4182-e34d-00c038307646"
      },
      "source": [
        "print(type(train_dataset.df.emotion))\n",
        "print(train_dataset.df.emotion)"
      ],
      "execution_count": 33,
      "outputs": [
        {
          "output_type": "stream",
          "text": [
            "<class 'pandas.core.series.Series'>\n",
            "0        0\n",
            "1        0\n",
            "2        2\n",
            "3        4\n",
            "4        6\n",
            "        ..\n",
            "28704    2\n",
            "28705    0\n",
            "28706    4\n",
            "28707    0\n",
            "28708    4\n",
            "Name: emotion, Length: 28709, dtype: int64\n"
          ],
          "name": "stdout"
        }
      ]
    },
    {
      "cell_type": "code",
      "metadata": {
        "colab": {
          "base_uri": "https://localhost:8080/"
        },
        "id": "SeU3yFD0imhs",
        "outputId": "933e4911-ad62-46d7-9af4-ffbeee333970"
      },
      "source": [
        "images_distributions = train_dataset.df.emotion\n",
        "images_distributions"
      ],
      "execution_count": 34,
      "outputs": [
        {
          "output_type": "execute_result",
          "data": {
            "text/plain": [
              "0        0\n",
              "1        0\n",
              "2        2\n",
              "3        4\n",
              "4        6\n",
              "        ..\n",
              "28704    2\n",
              "28705    0\n",
              "28706    4\n",
              "28707    0\n",
              "28708    4\n",
              "Name: emotion, Length: 28709, dtype: int64"
            ]
          },
          "metadata": {
            "tags": []
          },
          "execution_count": 34
        }
      ]
    },
    {
      "cell_type": "code",
      "metadata": {
        "colab": {
          "base_uri": "https://localhost:8080/"
        },
        "id": "1WsM5-mqir08",
        "outputId": "8e879f9b-1925-48a5-d539-38ba09b9487d"
      },
      "source": [
        "images_distributions.unique()"
      ],
      "execution_count": 35,
      "outputs": [
        {
          "output_type": "execute_result",
          "data": {
            "text/plain": [
              "array([0, 2, 4, 6, 3, 5, 1])"
            ]
          },
          "metadata": {
            "tags": []
          },
          "execution_count": 35
        }
      ]
    },
    {
      "cell_type": "code",
      "metadata": {
        "colab": {
          "base_uri": "https://localhost:8080/"
        },
        "id": "QFobo8uQivQG",
        "outputId": "7dfc29d7-71fd-480f-f111-a5c1361f8561"
      },
      "source": [
        "classes_count = images_distributions.value_counts()\n",
        "classes_count"
      ],
      "execution_count": 36,
      "outputs": [
        {
          "output_type": "execute_result",
          "data": {
            "text/plain": [
              "3    7215\n",
              "6    4965\n",
              "4    4830\n",
              "2    4097\n",
              "0    3995\n",
              "5    3171\n",
              "1     436\n",
              "Name: emotion, dtype: int64"
            ]
          },
          "metadata": {
            "tags": []
          },
          "execution_count": 36
        }
      ]
    },
    {
      "cell_type": "code",
      "metadata": {
        "colab": {
          "base_uri": "https://localhost:8080/"
        },
        "id": "FVWXALwsjMRt",
        "outputId": "c5351422-4162-43fc-d40d-86f447786f7a"
      },
      "source": [
        "classes_count_dict = classes_count.to_dict()\n",
        "classes_count_dict"
      ],
      "execution_count": 37,
      "outputs": [
        {
          "output_type": "execute_result",
          "data": {
            "text/plain": [
              "{0: 3995, 1: 436, 2: 4097, 3: 7215, 4: 4830, 5: 3171, 6: 4965}"
            ]
          },
          "metadata": {
            "tags": []
          },
          "execution_count": 37
        }
      ]
    },
    {
      "cell_type": "code",
      "metadata": {
        "id": "ofg5GzyGhtRY"
      },
      "source": [
        "#Dataset class:\n",
        "emotions = {\n",
        "    0: 'Angry', \n",
        "    1: 'Disgust', \n",
        "    2: 'Fear', \n",
        "    3: 'Happy', \n",
        "    4: 'Sad', \n",
        "    5: 'Surprise', \n",
        "    6: 'Neutral'\n",
        "}"
      ],
      "execution_count": 38,
      "outputs": []
    },
    {
      "cell_type": "code",
      "metadata": {
        "id": "Thnv2Rf1jKRn"
      },
      "source": [
        "count_dict = {emotions[k]: v for k, v in classes_count_dict.items()}"
      ],
      "execution_count": 39,
      "outputs": []
    },
    {
      "cell_type": "code",
      "metadata": {
        "colab": {
          "base_uri": "https://localhost:8080/"
        },
        "id": "UvhywbjghtCn",
        "outputId": "b118a7de-36b6-442d-83c4-a46f6b3d4df8"
      },
      "source": [
        "count_dict "
      ],
      "execution_count": 40,
      "outputs": [
        {
          "output_type": "execute_result",
          "data": {
            "text/plain": [
              "{'Angry': 3995,\n",
              " 'Disgust': 436,\n",
              " 'Fear': 4097,\n",
              " 'Happy': 7215,\n",
              " 'Neutral': 4965,\n",
              " 'Sad': 4830,\n",
              " 'Surprise': 3171}"
            ]
          },
          "metadata": {
            "tags": []
          },
          "execution_count": 40
        }
      ]
    },
    {
      "cell_type": "code",
      "metadata": {
        "colab": {
          "base_uri": "https://localhost:8080/",
          "height": 517
        },
        "id": "QMEuqGOOk8Fp",
        "outputId": "0f1797cc-1b58-4fc4-a212-726b455159c5"
      },
      "source": [
        "sns.set(rc={'figure.figsize':(11.7,8.27)})\n",
        "sns.barplot(data=pd.DataFrame.from_dict([count_dict]).melt(),x = \"variable\", y=\"value\", hue=\"variable\");"
      ],
      "execution_count": 41,
      "outputs": [
        {
          "output_type": "display_data",
          "data": {
            "image/png": "[encoded data removed]",
            "text/plain": [
              "<Figure size 842.4x595.44 with 1 Axes>"
            ]
          },
          "metadata": {
            "tags": []
          }
        }
      ]
    },
    {
      "cell_type": "markdown",
      "metadata": {
        "id": "htAjRtcRldre"
      },
      "source": [
        "Clearly the dataset looks poorly balanced. \n",
        "So, we should use weighted random sampling for a data loader"
      ]
    },
    {
      "cell_type": "markdown",
      "metadata": {
        "id": "RQWeDZPqltaJ"
      },
      "source": [
        "### Handling imbalanced dataset\n",
        "```WeightedRandomSampler``` is used to ensure that each batch sees a proportional number of all classes"
      ]
    },
    {
      "cell_type": "code",
      "metadata": {
        "colab": {
          "base_uri": "https://localhost:8080/"
        },
        "id": "NHTvLFhsB2SR",
        "outputId": "4cf8a248-de44-4768-c68b-5faf4bf7f8ce"
      },
      "source": [
        "classes_count_dict"
      ],
      "execution_count": 150,
      "outputs": [
        {
          "output_type": "execute_result",
          "data": {
            "text/plain": [
              "{0: 3995, 1: 436, 2: 4097, 3: 7215, 4: 4830, 5: 3171, 6: 4965}"
            ]
          },
          "metadata": {
            "tags": []
          },
          "execution_count": 150
        }
      ]
    },
    {
      "cell_type": "code",
      "metadata": {
        "id": "6DKtW2yqEZNl"
      },
      "source": [
        "class_weight_new = {k:1./(v) for k,v in classes_count_dict.items()}"
      ],
      "execution_count": 172,
      "outputs": []
    },
    {
      "cell_type": "code",
      "metadata": {
        "colab": {
          "base_uri": "https://localhost:8080/"
        },
        "id": "ztxqlDv7CUeZ",
        "outputId": "1d001432-6be5-4eaf-e3b8-c0207497048e"
      },
      "source": [
        "# more is the count lesser is the class_weight\n",
        "class_weight_new"
      ],
      "execution_count": 198,
      "outputs": [
        {
          "output_type": "execute_result",
          "data": {
            "text/plain": [
              "{0: 0.00025031289111389235,\n",
              " 1: 0.0022935779816513763,\n",
              " 2: 0.000244081034903588,\n",
              " 3: 0.0001386001386001386,\n",
              " 4: 0.00020703933747412008,\n",
              " 5: 0.000315357931251971,\n",
              " 6: 0.0002014098690835851}"
            ]
          },
          "metadata": {
            "tags": []
          },
          "execution_count": 198
        }
      ]
    },
    {
      "cell_type": "code",
      "metadata": {
        "colab": {
          "base_uri": "https://localhost:8080/"
        },
        "id": "mAOdjgpTDP-P",
        "outputId": "bd24fa0e-09ac-4e46-8047-ad1dbb1b1804"
      },
      "source": [
        "sample_weights = [0]* len(train_dataset)\n",
        "len(sample_weights)"
      ],
      "execution_count": 171,
      "outputs": [
        {
          "output_type": "execute_result",
          "data": {
            "text/plain": [
              "28709"
            ]
          },
          "metadata": {
            "tags": []
          },
          "execution_count": 171
        }
      ]
    },
    {
      "cell_type": "code",
      "metadata": {
        "id": "zHatn9hmCemm"
      },
      "source": [
        "# associating class_weight to each item in train_dataset\n",
        "for idx, (data, label)  in enumerate(train_dataset):\n",
        "  class_weight = class_weight_new[label]\n",
        "  sample_weights[idx] = class_weight"
      ],
      "execution_count": 175,
      "outputs": []
    },
    {
      "cell_type": "code",
      "metadata": {
        "id": "KlQxc1FyFER1"
      },
      "source": [
        "# This is ready to rock, for the equity!! Say NO to bias :)\n",
        "sample_weights = torch.Tensor(sample_weights)"
      ],
      "execution_count": 176,
      "outputs": []
    },
    {
      "cell_type": "code",
      "metadata": {
        "colab": {
          "base_uri": "https://localhost:8080/"
        },
        "id": "5wxzglbFGHCd",
        "outputId": "3fe3dfed-0bf3-45dd-d93d-9e6e606693aa"
      },
      "source": [
        "len(sample_weights)"
      ],
      "execution_count": 177,
      "outputs": [
        {
          "output_type": "execute_result",
          "data": {
            "text/plain": [
              "28709"
            ]
          },
          "metadata": {
            "tags": []
          },
          "execution_count": 177
        }
      ]
    },
    {
      "cell_type": "code",
      "metadata": {
        "id": "gYU11XIknBox"
      },
      "source": [
        "weighted_sampler = WeightedRandomSampler(\n",
        "    weights=sample_weights,\n",
        "    num_samples=len(sample_weights),\n",
        "    replacement=True\n",
        ")"
      ],
      "execution_count": 178,
      "outputs": []
    },
    {
      "cell_type": "markdown",
      "metadata": {
        "id": "Hj4fqFGNosik"
      },
      "source": [
        "### Data Loader"
      ]
    },
    {
      "cell_type": "code",
      "metadata": {
        "id": "WXUarJq_pEPi"
      },
      "source": [
        "batch_size = 32"
      ],
      "execution_count": 179,
      "outputs": []
    },
    {
      "cell_type": "code",
      "metadata": {
        "id": "AM_jd-8poq8z"
      },
      "source": [
        "train_loader = torch.utils.data.DataLoader(\n",
        "    train_dataset, batch_size=batch_size, sampler=weighted_sampler\n",
        ")\n",
        "val_loader = torch.utils.data.DataLoader(\n",
        "    val_dataset, batch_size=batch_size, sampler=torch.utils.data.RandomSampler(data_source= val_dataset, replacement=True)   \n",
        ")\n",
        "test_loader = torch.utils.data.DataLoader(\n",
        "    test_dataset, batch_size=batch_size\n",
        ")"
      ],
      "execution_count": 180,
      "outputs": []
    },
    {
      "cell_type": "code",
      "metadata": {
        "colab": {
          "base_uri": "https://localhost:8080/"
        },
        "id": "M8GTH-8FopV7",
        "outputId": "47b81b7c-5892-42cc-8fe5-50a0982a448f"
      },
      "source": [
        "sample = iter(train_loader)\n",
        "images, classes = sample.next()\n",
        "print(images.shape, classes.shape)"
      ],
      "execution_count": 194,
      "outputs": [
        {
          "output_type": "stream",
          "text": [
            "torch.Size([32, 1, 48, 48]) torch.Size([32])\n"
          ],
          "name": "stdout"
        }
      ]
    },
    {
      "cell_type": "code",
      "metadata": {
        "colab": {
          "base_uri": "https://localhost:8080/",
          "height": 266
        },
        "id": "liO-vs6HpL1Z",
        "outputId": "6f7e3fa5-c0e9-4d93-c11b-ecc6ccf15938"
      },
      "source": [
        "for images, _ in sample:\n",
        "    print('images.shape:', images.shape)\n",
        "    plt.figure(figsize=(10, 4))\n",
        "    plt.axis(\"off\")\n",
        "    plt.imshow(make_grid(images, nrow=8).permute((1, 2, 0))) # move the channel dimension\n",
        "    break"
      ],
      "execution_count": 195,
      "outputs": [
        {
          "output_type": "stream",
          "text": [
            "images.shape: torch.Size([32, 1, 48, 48])\n"
          ],
          "name": "stdout"
        },
        {
          "output_type": "display_data",
          "data": {
            "image/png": "[encoded data removed]",
            "text/plain": [
              "<Figure size 720x288 with 1 Axes>"
            ]
          },
          "metadata": {
            "tags": []
          }
        }
      ]
    },
    {
      "cell_type": "code",
      "metadata": {
        "id": "h7xdFghhx83F"
      },
      "source": [
        "my = pd.Series(classes)"
      ],
      "execution_count": 196,
      "outputs": []
    },
    {
      "cell_type": "code",
      "metadata": {
        "colab": {
          "base_uri": "https://localhost:8080/"
        },
        "id": "xQr2kQYRyCn4",
        "outputId": "6a78174e-bc36-4dc9-e632-d911f1279998"
      },
      "source": [
        "my.value_counts()"
      ],
      "execution_count": 197,
      "outputs": [
        {
          "output_type": "execute_result",
          "data": {
            "text/plain": [
              "1    10\n",
              "0     6\n",
              "4     5\n",
              "2     4\n",
              "6     3\n",
              "3     3\n",
              "5     1\n",
              "dtype: int64"
            ]
          },
          "metadata": {
            "tags": []
          },
          "execution_count": 197
        }
      ]
    },
    {
      "cell_type": "markdown",
      "metadata": {
        "id": "xkptMJqZusFk"
      },
      "source": [
        "# That's it"
      ]
    },
    {
      "cell_type": "code",
      "metadata": {
        "id": "vLLbnpyhHAnS"
      },
      "source": [
        ""
      ],
      "execution_count": null,
      "outputs": []
    }
  ]
}